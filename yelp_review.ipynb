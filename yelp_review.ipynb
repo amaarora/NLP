{
 "cells": [
  {
   "cell_type": "markdown",
   "metadata": {},
   "source": [
    "# ULMFiT on YELP-BI"
   ]
  },
  {
   "cell_type": "code",
   "execution_count": 1,
   "metadata": {},
   "outputs": [],
   "source": [
    "import pandas as pd\n",
    "import csv\n",
    "import json\n",
    "import sys\n",
    "sys.path.append('/home/ubuntu/fastai')\n",
    "from fastai.text import *"
   ]
  },
  {
   "cell_type": "code",
   "execution_count": 2,
   "metadata": {},
   "outputs": [
    {
     "data": {
      "text/plain": [
       "PosixPath('/home/ubuntu/.fastai/data/yelp')"
      ]
     },
     "execution_count": 2,
     "metadata": {},
     "output_type": "execute_result"
    }
   ],
   "source": [
    "path = Config().data_path()/'yelp/'; path"
   ]
  },
  {
   "cell_type": "code",
   "execution_count": 3,
   "metadata": {},
   "outputs": [
    {
     "name": "stdout",
     "output_type": "stream",
     "text": [
      "data_clas.pkl\t\t\t\t yelp_academic_dataset_checkin.json\r\n",
      "data_lm.pkl\t\t\t\t yelp_academic_dataset_review.json\r\n",
      "Dataset_Challenge_Dataset_Agreement.pdf  yelp_academic_dataset_tip.json\r\n",
      "models\t\t\t\t\t yelp_academic_dataset_user.json\r\n",
      "reviews.csv\t\t\t\t yelp-dataset.zip\r\n",
      "yelp_academic_dataset_business.json\r\n"
     ]
    }
   ],
   "source": [
    "!ls {path}"
   ]
  },
  {
   "cell_type": "code",
   "execution_count": 4,
   "metadata": {},
   "outputs": [],
   "source": [
    "file_name = \"yelp_academic_dataset_review.json\""
   ]
  },
  {
   "cell_type": "markdown",
   "metadata": {
    "heading_collapsed": true
   },
   "source": [
    "## Data Preparation"
   ]
  },
  {
   "cell_type": "code",
   "execution_count": 5,
   "metadata": {
    "hidden": true
   },
   "outputs": [
    {
     "name": "stdout",
     "output_type": "stream",
     "text": [
      "CPU times: user 1min 22s, sys: 17 s, total: 1min 39s\n",
      "Wall time: 2min 31s\n"
     ]
    }
   ],
   "source": [
    "%%time\n",
    "reviews = pd.read_json(f'{path}/{file_name}', lines=True)"
   ]
  },
  {
   "cell_type": "code",
   "execution_count": 6,
   "metadata": {
    "hidden": true
   },
   "outputs": [
    {
     "data": {
      "text/html": [
       "<div>\n",
       "<style scoped>\n",
       "    .dataframe tbody tr th:only-of-type {\n",
       "        vertical-align: middle;\n",
       "    }\n",
       "\n",
       "    .dataframe tbody tr th {\n",
       "        vertical-align: top;\n",
       "    }\n",
       "\n",
       "    .dataframe thead th {\n",
       "        text-align: right;\n",
       "    }\n",
       "</style>\n",
       "<table border=\"1\" class=\"dataframe\">\n",
       "  <thead>\n",
       "    <tr style=\"text-align: right;\">\n",
       "      <th></th>\n",
       "      <th>business_id</th>\n",
       "      <th>cool</th>\n",
       "      <th>date</th>\n",
       "      <th>funny</th>\n",
       "      <th>review_id</th>\n",
       "      <th>stars</th>\n",
       "      <th>text</th>\n",
       "      <th>useful</th>\n",
       "      <th>user_id</th>\n",
       "    </tr>\n",
       "  </thead>\n",
       "  <tbody>\n",
       "    <tr>\n",
       "      <th>0</th>\n",
       "      <td>ujmEBvifdJM6h6RLv4wQIg</td>\n",
       "      <td>0</td>\n",
       "      <td>2013-05-07 04:34:36</td>\n",
       "      <td>1</td>\n",
       "      <td>Q1sbwvVQXV2734tPgoKj4Q</td>\n",
       "      <td>1</td>\n",
       "      <td>Total bill for this horrible service? Over $8G...</td>\n",
       "      <td>6</td>\n",
       "      <td>hG7b0MtEbXx5QzbzE6C_VA</td>\n",
       "    </tr>\n",
       "    <tr>\n",
       "      <th>1</th>\n",
       "      <td>NZnhc2sEQy3RmzKTZnqtwQ</td>\n",
       "      <td>0</td>\n",
       "      <td>2017-01-14 21:30:33</td>\n",
       "      <td>0</td>\n",
       "      <td>GJXCdrto3ASJOqKeVWPi6Q</td>\n",
       "      <td>5</td>\n",
       "      <td>I *adore* Travis at the Hard Rock's new Kelly ...</td>\n",
       "      <td>0</td>\n",
       "      <td>yXQM5uF2jS6es16SJzNHfg</td>\n",
       "    </tr>\n",
       "    <tr>\n",
       "      <th>2</th>\n",
       "      <td>WTqjgwHlXbSFevF32_DJVw</td>\n",
       "      <td>0</td>\n",
       "      <td>2016-11-09 20:09:03</td>\n",
       "      <td>0</td>\n",
       "      <td>2TzJjDVDEuAW6MR5Vuc1ug</td>\n",
       "      <td>5</td>\n",
       "      <td>I have to say that this office really has it t...</td>\n",
       "      <td>3</td>\n",
       "      <td>n6-Gk65cPZL6Uz8qRm3NYw</td>\n",
       "    </tr>\n",
       "    <tr>\n",
       "      <th>3</th>\n",
       "      <td>ikCg8xy5JIg_NGPx-MSIDA</td>\n",
       "      <td>0</td>\n",
       "      <td>2018-01-09 20:56:38</td>\n",
       "      <td>0</td>\n",
       "      <td>yi0R0Ugj_xUx_Nek0-_Qig</td>\n",
       "      <td>5</td>\n",
       "      <td>Went in for a lunch. Steak sandwich was delici...</td>\n",
       "      <td>0</td>\n",
       "      <td>dacAIZ6fTM6mqwW5uxkskg</td>\n",
       "    </tr>\n",
       "    <tr>\n",
       "      <th>4</th>\n",
       "      <td>b1b1eb3uo-w561D0ZfCEiQ</td>\n",
       "      <td>0</td>\n",
       "      <td>2018-01-30 23:07:38</td>\n",
       "      <td>0</td>\n",
       "      <td>11a8sVPMUFtaC7_ABRkmtw</td>\n",
       "      <td>1</td>\n",
       "      <td>Today was my second out of three sessions I ha...</td>\n",
       "      <td>7</td>\n",
       "      <td>ssoyf2_x0EQMed6fgHeMyQ</td>\n",
       "    </tr>\n",
       "  </tbody>\n",
       "</table>\n",
       "</div>"
      ],
      "text/plain": [
       "              business_id  cool                date  funny  \\\n",
       "0  ujmEBvifdJM6h6RLv4wQIg     0 2013-05-07 04:34:36      1   \n",
       "1  NZnhc2sEQy3RmzKTZnqtwQ     0 2017-01-14 21:30:33      0   \n",
       "2  WTqjgwHlXbSFevF32_DJVw     0 2016-11-09 20:09:03      0   \n",
       "3  ikCg8xy5JIg_NGPx-MSIDA     0 2018-01-09 20:56:38      0   \n",
       "4  b1b1eb3uo-w561D0ZfCEiQ     0 2018-01-30 23:07:38      0   \n",
       "\n",
       "                review_id  stars  \\\n",
       "0  Q1sbwvVQXV2734tPgoKj4Q      1   \n",
       "1  GJXCdrto3ASJOqKeVWPi6Q      5   \n",
       "2  2TzJjDVDEuAW6MR5Vuc1ug      5   \n",
       "3  yi0R0Ugj_xUx_Nek0-_Qig      5   \n",
       "4  11a8sVPMUFtaC7_ABRkmtw      1   \n",
       "\n",
       "                                                text  useful  \\\n",
       "0  Total bill for this horrible service? Over $8G...       6   \n",
       "1  I *adore* Travis at the Hard Rock's new Kelly ...       0   \n",
       "2  I have to say that this office really has it t...       3   \n",
       "3  Went in for a lunch. Steak sandwich was delici...       0   \n",
       "4  Today was my second out of three sessions I ha...       7   \n",
       "\n",
       "                  user_id  \n",
       "0  hG7b0MtEbXx5QzbzE6C_VA  \n",
       "1  yXQM5uF2jS6es16SJzNHfg  \n",
       "2  n6-Gk65cPZL6Uz8qRm3NYw  \n",
       "3  dacAIZ6fTM6mqwW5uxkskg  \n",
       "4  ssoyf2_x0EQMed6fgHeMyQ  "
      ]
     },
     "execution_count": 6,
     "metadata": {},
     "output_type": "execute_result"
    }
   ],
   "source": [
    "reviews.head()"
   ]
  },
  {
   "cell_type": "code",
   "execution_count": 7,
   "metadata": {
    "hidden": true
   },
   "outputs": [
    {
     "name": "stdout",
     "output_type": "stream",
     "text": [
      "CPU times: user 156 ms, sys: 20 ms, total: 176 ms\n",
      "Wall time: 175 ms\n"
     ]
    }
   ],
   "source": [
    "%%time\n",
    "reviews = reviews.loc[:,['stars', 'text']]"
   ]
  },
  {
   "cell_type": "code",
   "execution_count": 8,
   "metadata": {
    "hidden": true
   },
   "outputs": [
    {
     "name": "stdout",
     "output_type": "stream",
     "text": [
      "CPU times: user 7.09 s, sys: 404 ms, total: 7.49 s\n",
      "Wall time: 6.97 s\n"
     ]
    }
   ],
   "source": [
    "%%time\n",
    "reviews['length'] = reviews['text'].apply(lambda x: len(x))\n",
    "reviews.sort_values('length', inplace=True, ascending=False)\n",
    "reviews = reviews[reviews['length']>200]\n",
    "reviews.drop('length', axis=1, inplace=True)"
   ]
  },
  {
   "cell_type": "code",
   "execution_count": 9,
   "metadata": {
    "hidden": true
   },
   "outputs": [],
   "source": [
    "reviews = reviews[reviews.stars.isin([1,5])]"
   ]
  },
  {
   "cell_type": "code",
   "execution_count": 10,
   "metadata": {
    "hidden": true
   },
   "outputs": [],
   "source": [
    "reviews['is_valid'] = False "
   ]
  },
  {
   "cell_type": "code",
   "execution_count": 11,
   "metadata": {
    "hidden": true
   },
   "outputs": [
    {
     "data": {
      "text/html": [
       "<div>\n",
       "<style scoped>\n",
       "    .dataframe tbody tr th:only-of-type {\n",
       "        vertical-align: middle;\n",
       "    }\n",
       "\n",
       "    .dataframe tbody tr th {\n",
       "        vertical-align: top;\n",
       "    }\n",
       "\n",
       "    .dataframe thead th {\n",
       "        text-align: right;\n",
       "    }\n",
       "</style>\n",
       "<table border=\"1\" class=\"dataframe\">\n",
       "  <thead>\n",
       "    <tr style=\"text-align: right;\">\n",
       "      <th></th>\n",
       "      <th>label</th>\n",
       "      <th>text</th>\n",
       "      <th>is_valid</th>\n",
       "    </tr>\n",
       "  </thead>\n",
       "  <tbody>\n",
       "    <tr>\n",
       "      <th>291007</th>\n",
       "      <td>1</td>\n",
       "      <td>This is a copy of my email to Home Depot Custo...</td>\n",
       "      <td>False</td>\n",
       "    </tr>\n",
       "    <tr>\n",
       "      <th>3148987</th>\n",
       "      <td>5</td>\n",
       "      <td>Items Selected:\\nBacon candle\\nDutch baby, cas...</td>\n",
       "      <td>False</td>\n",
       "    </tr>\n",
       "    <tr>\n",
       "      <th>437977</th>\n",
       "      <td>1</td>\n",
       "      <td>Where to start... the first week they had it t...</td>\n",
       "      <td>False</td>\n",
       "    </tr>\n",
       "    <tr>\n",
       "      <th>2037907</th>\n",
       "      <td>1</td>\n",
       "      <td>Buyer beware of Meritage Homes in the Raleigh,...</td>\n",
       "      <td>False</td>\n",
       "    </tr>\n",
       "    <tr>\n",
       "      <th>5626085</th>\n",
       "      <td>1</td>\n",
       "      <td>Nightmare on My Birthday....\\n\\nI've never had...</td>\n",
       "      <td>False</td>\n",
       "    </tr>\n",
       "  </tbody>\n",
       "</table>\n",
       "</div>"
      ],
      "text/plain": [
       "         label                                               text  is_valid\n",
       "291007       1  This is a copy of my email to Home Depot Custo...     False\n",
       "3148987      5  Items Selected:\\nBacon candle\\nDutch baby, cas...     False\n",
       "437977       1  Where to start... the first week they had it t...     False\n",
       "2037907      1  Buyer beware of Meritage Homes in the Raleigh,...     False\n",
       "5626085      1  Nightmare on My Birthday....\\n\\nI've never had...     False"
      ]
     },
     "execution_count": 11,
     "metadata": {},
     "output_type": "execute_result"
    }
   ],
   "source": [
    "reviews.columns=['label', 'text', 'is_valid']\n",
    "reviews.head()"
   ]
  },
  {
   "cell_type": "code",
   "execution_count": 12,
   "metadata": {
    "hidden": true
   },
   "outputs": [
    {
     "data": {
      "text/plain": [
       "5    2195765\n",
       "1     873288\n",
       "Name: label, dtype: int64"
      ]
     },
     "execution_count": 12,
     "metadata": {},
     "output_type": "execute_result"
    }
   ],
   "source": [
    "reviews.label.value_counts()"
   ]
  },
  {
   "cell_type": "code",
   "execution_count": 13,
   "metadata": {
    "hidden": true
   },
   "outputs": [],
   "source": [
    "# running our model for smaller subset for faster training\n",
    "# also making neg, pos reviews baalnced for easier training \n",
    "neg = reviews[reviews.label==1][:10000]\n",
    "pos = reviews[reviews.label==5][:10000]\n",
    "sample_reviews = pd.concat([neg, pos])"
   ]
  },
  {
   "cell_type": "code",
   "execution_count": 14,
   "metadata": {
    "hidden": true,
    "scrolled": true
   },
   "outputs": [
    {
     "data": {
      "text/html": [
       "<div>\n",
       "<style scoped>\n",
       "    .dataframe tbody tr th:only-of-type {\n",
       "        vertical-align: middle;\n",
       "    }\n",
       "\n",
       "    .dataframe tbody tr th {\n",
       "        vertical-align: top;\n",
       "    }\n",
       "\n",
       "    .dataframe thead th {\n",
       "        text-align: right;\n",
       "    }\n",
       "</style>\n",
       "<table border=\"1\" class=\"dataframe\">\n",
       "  <thead>\n",
       "    <tr style=\"text-align: right;\">\n",
       "      <th></th>\n",
       "      <th>label</th>\n",
       "      <th>text</th>\n",
       "      <th>is_valid</th>\n",
       "    </tr>\n",
       "  </thead>\n",
       "  <tbody>\n",
       "    <tr>\n",
       "      <th>2163927</th>\n",
       "      <td>5</td>\n",
       "      <td>Hi all. Wanted to give a 6 month update - pros...</td>\n",
       "      <td>False</td>\n",
       "    </tr>\n",
       "    <tr>\n",
       "      <th>2412472</th>\n",
       "      <td>5</td>\n",
       "      <td>In the mood for some Afghani food but don't kn...</td>\n",
       "      <td>False</td>\n",
       "    </tr>\n",
       "    <tr>\n",
       "      <th>6631856</th>\n",
       "      <td>5</td>\n",
       "      <td>Pick Thai is absolutely the best!! This chef k...</td>\n",
       "      <td>False</td>\n",
       "    </tr>\n",
       "    <tr>\n",
       "      <th>2733135</th>\n",
       "      <td>1</td>\n",
       "      <td>I've been a member at this gym for ~2 years. M...</td>\n",
       "      <td>False</td>\n",
       "    </tr>\n",
       "    <tr>\n",
       "      <th>5973262</th>\n",
       "      <td>1</td>\n",
       "      <td>Do not buy from this company and site. I've ha...</td>\n",
       "      <td>False</td>\n",
       "    </tr>\n",
       "  </tbody>\n",
       "</table>\n",
       "</div>"
      ],
      "text/plain": [
       "         label                                               text  is_valid\n",
       "2163927      5  Hi all. Wanted to give a 6 month update - pros...     False\n",
       "2412472      5  In the mood for some Afghani food but don't kn...     False\n",
       "6631856      5  Pick Thai is absolutely the best!! This chef k...     False\n",
       "2733135      1  I've been a member at this gym for ~2 years. M...     False\n",
       "5973262      1  Do not buy from this company and site. I've ha...     False"
      ]
     },
     "execution_count": 14,
     "metadata": {},
     "output_type": "execute_result"
    }
   ],
   "source": [
    "# shuffling sample_reviews\n",
    "rdm_idx = np.random.RandomState(seed=123).permutation(len(sample_reviews))\n",
    "sample_reviews = sample_reviews.iloc[rdm_idx]\n",
    "num_valid = int(0.1 * sample_reviews.shape[0])\n",
    "sample_reviews.iloc[-num_valid:, 2] = True \n",
    "sample_reviews.head()"
   ]
  },
  {
   "cell_type": "markdown",
   "metadata": {
    "heading_collapsed": true
   },
   "source": [
    "## DataBunch"
   ]
  },
  {
   "cell_type": "code",
   "execution_count": 15,
   "metadata": {
    "hidden": true
   },
   "outputs": [],
   "source": [
    "bs=64"
   ]
  },
  {
   "cell_type": "code",
   "execution_count": 16,
   "metadata": {
    "hidden": true
   },
   "outputs": [],
   "source": [
    "# data = (TextList.from_df(sample_reviews, path, cols='text')\n",
    "#                 .split_from_df(col=2)\n",
    "#                 .label_for_lm()\n",
    "#                 .databunch(bs=64))\n",
    "# data.save('data_lm.pkl')"
   ]
  },
  {
   "cell_type": "code",
   "execution_count": 17,
   "metadata": {
    "hidden": true
   },
   "outputs": [],
   "source": [
    "data = load_data(path, 'data_lm.pkl', bs=bs)"
   ]
  },
  {
   "cell_type": "code",
   "execution_count": 18,
   "metadata": {
    "hidden": true,
    "scrolled": true
   },
   "outputs": [
    {
     "data": {
      "text/html": [
       "<table border=\"1\" class=\"dataframe\">\n",
       "  <thead>\n",
       "    <tr style=\"text-align: right;\">\n",
       "      <th>idx</th>\n",
       "      <th>text</th>\n",
       "    </tr>\n",
       "  </thead>\n",
       "  <tbody>\n",
       "    <tr>\n",
       "      <td>0</td>\n",
       "      <td>be prepared for a lengthy process of getting plans approved , work scheduled , inspections scheduled and approved etc . xxmaj it took a while for ours to get done , but it was worth the wait . xxmaj our roof has flat cement tiles - easier to walk on and install stuff on , i 'm not aware of any damaged tiles , but if your roof has those</td>\n",
       "    </tr>\n",
       "    <tr>\n",
       "      <td>1</td>\n",
       "      <td>kind of frequency is absolutely inexcusable . \\n \\n  * xxmaj during the night , the staff member on duty is supposed to check on everyone in ten to fifteen - minute intervals . xxmaj this happened only rarely , sometimes with more than half an hour passing between checks . \\n \\n  * xxmaj here 's the big one ... i was assaulted while staying overnight .</td>\n",
       "    </tr>\n",
       "    <tr>\n",
       "      <td>2</td>\n",
       "      <td>away with amazement just as you did ... i told you i will email you the video ... xxmaj that takes time to upload to xxmaj dropbox because i have a super slow xxmaj internet connection . xxmaj if you would have read the email . , which obviously you did n't , you would have had a sd card with you , which you did n't . i kindly</td>\n",
       "    </tr>\n",
       "    <tr>\n",
       "      <td>3</td>\n",
       "      <td>people answering the phone each time i called . xxmaj vanessa , xxmaj mike , xxmaj lance , xxmaj victoria , xxmaj jean , xxmaj xxunk , xxmaj jack , xxmaj chris , xxmaj alex , xxmaj geneva , xxmaj jeremy and the voice mail for xxmaj sarah . xxmaj mike told me that my job was a low priority . xxmaj additionally , i was transferred several times to</td>\n",
       "    </tr>\n",
       "    <tr>\n",
       "      <td>4</td>\n",
       "      <td>worked with me to get a better furnace than the one the home warranty recommended and told me i could pay with a credit card . xxmaj rocco is awesome : he 'll work with you and will listen to your wants and needs . \\n  xxmaj so , 5 days later , they have the replacement furnace and parts and were ready to install ( super awesome because</td>\n",
       "    </tr>\n",
       "  </tbody>\n",
       "</table>"
      ],
      "text/plain": [
       "<IPython.core.display.HTML object>"
      ]
     },
     "metadata": {},
     "output_type": "display_data"
    }
   ],
   "source": [
    "data.show_batch()"
   ]
  },
  {
   "cell_type": "markdown",
   "metadata": {
    "heading_collapsed": true
   },
   "source": [
    "## Universal Language Model"
   ]
  },
  {
   "cell_type": "code",
   "execution_count": 19,
   "metadata": {
    "hidden": true
   },
   "outputs": [],
   "source": [
    "learn = language_model_learner(data, AWD_LSTM, drop_mult=0.3)"
   ]
  },
  {
   "cell_type": "code",
   "execution_count": 20,
   "metadata": {
    "hidden": true
   },
   "outputs": [
    {
     "data": {
      "text/html": [],
      "text/plain": [
       "<IPython.core.display.HTML object>"
      ]
     },
     "metadata": {},
     "output_type": "display_data"
    },
    {
     "name": "stdout",
     "output_type": "stream",
     "text": [
      "LR Finder is complete, type {learner_name}.recorder.plot() to see the graph.\n"
     ]
    }
   ],
   "source": [
    "learn.lr_find()"
   ]
  },
  {
   "cell_type": "code",
   "execution_count": 21,
   "metadata": {
    "hidden": true
   },
   "outputs": [
    {
     "data": {
      "image/png": "[encoded data removed]",
      "text/plain": [
       "<Figure size 432x288 with 1 Axes>"
      ]
     },
     "metadata": {},
     "output_type": "display_data"
    }
   ],
   "source": [
    "learn.recorder.plot(skip_end=15)"
   ]
  },
  {
   "cell_type": "code",
   "execution_count": 22,
   "metadata": {
    "hidden": true
   },
   "outputs": [],
   "source": [
    "learn.fit_one_cycle(1, 1e-2, moms=(0.8,0.7))"
   ]
  },
  {
   "cell_type": "code",
   "execution_count": 23,
   "metadata": {
    "hidden": true
   },
   "outputs": [],
   "source": [
    "# learn.save('fit_head')"
   ]
  },
  {
   "cell_type": "code",
   "execution_count": 24,
   "metadata": {
    "hidden": true
   },
   "outputs": [],
   "source": [
    "learn.load('fit_head');"
   ]
  },
  {
   "cell_type": "code",
   "execution_count": 25,
   "metadata": {
    "hidden": true
   },
   "outputs": [],
   "source": [
    "learn.unfreeze()"
   ]
  },
  {
   "cell_type": "code",
   "execution_count": 26,
   "metadata": {
    "hidden": true
   },
   "outputs": [],
   "source": [
    "learn.lr_find()"
   ]
  },
  {
   "cell_type": "code",
   "execution_count": 27,
   "metadata": {
    "hidden": true
   },
   "outputs": [
    {
     "data": {
      "image/png": "[encoded data removed]",
      "text/plain": [
       "<Figure size 432x288 with 1 Axes>"
      ]
     },
     "metadata": {},
     "output_type": "display_data"
    }
   ],
   "source": [
    "learn.recorder.plot()"
   ]
  },
  {
   "cell_type": "code",
   "execution_count": 28,
   "metadata": {
    "hidden": true
   },
   "outputs": [
    {
     "data": {
      "text/html": [
       "<table border=\"1\" class=\"dataframe\">\n",
       "  <thead>\n",
       "    <tr style=\"text-align: left;\">\n",
       "      <th>epoch</th>\n",
       "      <th>train_loss</th>\n",
       "      <th>valid_loss</th>\n",
       "      <th>accuracy</th>\n",
       "      <th>time</th>\n",
       "    </tr>\n",
       "  </thead>\n",
       "  <tbody>\n",
       "    <tr>\n",
       "      <td>0</td>\n",
       "      <td>3.870191</td>\n",
       "      <td>3.831783</td>\n",
       "      <td>0.288089</td>\n",
       "      <td>52:13</td>\n",
       "    </tr>\n",
       "    <tr>\n",
       "      <td>1</td>\n",
       "      <td>3.803715</td>\n",
       "      <td>3.734362</td>\n",
       "      <td>0.300142</td>\n",
       "      <td>52:14</td>\n",
       "    </tr>\n",
       "    <tr>\n",
       "      <td>2</td>\n",
       "      <td>3.696414</td>\n",
       "      <td>3.669889</td>\n",
       "      <td>0.307982</td>\n",
       "      <td>52:16</td>\n",
       "    </tr>\n",
       "    <tr>\n",
       "      <td>3</td>\n",
       "      <td>3.566438</td>\n",
       "      <td>3.635856</td>\n",
       "      <td>0.312447</td>\n",
       "      <td>52:15</td>\n",
       "    </tr>\n",
       "    <tr>\n",
       "      <td>4</td>\n",
       "      <td>3.516726</td>\n",
       "      <td>3.629515</td>\n",
       "      <td>0.313139</td>\n",
       "      <td>52:10</td>\n",
       "    </tr>\n",
       "  </tbody>\n",
       "</table>"
      ],
      "text/plain": [
       "<IPython.core.display.HTML object>"
      ]
     },
     "metadata": {},
     "output_type": "display_data"
    }
   ],
   "source": [
    "learn.fit_one_cycle(5, 1e-3, moms=(0.8,0.7))"
   ]
  },
  {
   "cell_type": "code",
   "execution_count": 29,
   "metadata": {
    "hidden": true
   },
   "outputs": [],
   "source": [
    "# learn.save('finetuned_lm')"
   ]
  },
  {
   "cell_type": "code",
   "execution_count": 30,
   "metadata": {
    "hidden": true
   },
   "outputs": [
    {
     "data": {
      "text/plain": [
       "LanguageLearner(data=TextLMDataBunch;\n",
       "\n",
       "Train: LabelList (18000 items)\n",
       "x: LMTextList\n",
       "xxbos xxmaj hi all . xxmaj wanted to give a 6 month update - pros and con 's and some good tips . i apologize to folks that sent me messages directly , i did n't realize how yelp messages worked . \n",
       " \n",
       "  xxmaj first off , getting electrical construction stuff done to your house is very difficult . xxmaj there are lots of permits and approvals required . xxmaj be prepared for a lengthy process of getting plans approved , work scheduled , inspections scheduled and approved etc . xxmaj it took a while for ours to get done , but it was worth the wait . xxmaj our roof has flat cement tiles - easier to walk on and install stuff on , i 'm not aware of any damaged tiles , but if your roof has those beautiful curved tiles , i would expect a harder install process as one reviewer can attest . i think that xxmaj solar xxmaj city should send their \" crack \" team of repair dudes to that guys house to make it right and post new pictures of nice matching tiles . \n",
       " \n",
       "  xxmaj pro 's : xxmaj the panels are installed and working like they should . xxmaj we are satisfied with their performance and we are seeing cost savings every month . i ca n't tell how much because we were on the monthly average plan , so we still have a positive balance with xxup srp . xxmaj our monthly balanced payment amount was 225 - 240 per month year round . xxmaj we are paying less than that every month with the summer rapidly approaching . \n",
       "  i contacted xxmaj solar xxmaj city a few times and got good service every time . xxmaj once to ask about the \" flip the switch \" to activate the panels ( i thought i was supposed to do that but there was one final inspection by xxup srp and xxmaj solar xxmaj city remaining - they came out , did the inspection and they flipped the switch ) . \n",
       "  xxmaj another time was to express my indignation about a 15 dollar surcharge added to my bill because i did not allow them to withdraw directly from my bank account . i had set up an automatic bill pay yet that was n't the same thing to them . xxmaj the 15 dollar surcharge is in the contract , so while i was unhappy about it , i did sign the contract . i found a solution . i have multiple bank accounts ( due to relocating to xxmaj phoenix ) and one is my active account and the other has a small savings and check balance to remain active . xxmaj now i send a \" payment \" to my secondary account and let them take their money from the secondary account . xxmaj they get their money , i save 15 dollars and my main checking account is isolated from \" auto debit \" robots . \n",
       "  xxmaj you are helping reduce the load on the grid during peak times ! xxmaj this helps avoid xxunk xxunk because of too much demand and not enough coming from the power plants . xxup srp will have to shut down one of their big coal plants soon ( thanks xxup epa ) and that means more stress on their grid . xxmaj anything to reduce that stress is a good thing , and we are going green to boot ... \n",
       " \n",
       "  xxmaj con 's : xxmaj you have installers up on your roof putting stuff up there . xxmaj not every install team is comprised of anal - retentive engineers , so be prepared for the possibility of a bit of stuff left laying around ( there is a water bottle that fell onto a lower level that is still there , a couple pieces of scrap that fell from the roof etc ) . xxmaj nothing that was worthy of a complaint call , but just know that construction is messy . \n",
       "  i 'm not seeing evidence that xxup srp is \" buying \" our excess electricity , they install these new electronic meters , so you ca n't see the wheel spinning backwards and the numbers count in reverse or anything like that . xxmaj our typical bill from xxup srp has a solar connection fee of about 17 bucks , and a small balance of electricity that we purchase , so maybe there is some magical process that happens . \n",
       "  xxmaj it will take some time from the day that you sign the agreement to when they go live . xxmaj ours went pretty quickly and it was still around 2 - 3 months from signed deal to generating electricity . a friend 's took more like 6 months , but they are generating electricity now too . \n",
       " \n",
       "  xxmaj tip : xxmaj remember that you signed an agreement to buy the electricity from your panels - use it ! xxmaj it took us a while to get into the mode of running stuff during the daylight hours ( dishwasher , laundry , pool pump , and we keep the xxup ac about 4 - 5 degrees cooler during the day now ) . xxmaj even doing all that stuff during a sunny day , we generate more than we use ( but just barely ) . \n",
       "  xxmaj solar xxmaj city has met every obligation , treated us with respect , and even sent us a referral check as they advertised . xxmaj read the contract , understand what you are agreeing to and call them if you have questions - they are decent folks . \n",
       "  xxmaj hold your head up ! xxmaj you are helping the environment , helping reduce strain on the grid and saving money on your bills - all good things .,xxbos xxmaj in the mood for some xxmaj xxunk food but do n't know where to go ? xxmaj well , xxmaj madison is n't xxup that far , and there 's plenty of other stuff to do on xxmaj state street to keep you occupied for a day ! \n",
       " \n",
       "  xxmaj the last time i was here was when flip phones were just starting to get popular xxrep 4 . yes , i said flip phones ! \n",
       " \n",
       "  xxmaj today , they have changed locations so that they are across the street somewhat from their old spot and they occupy the upstairs ... what great people watching ! \n",
       " \n",
       "  xxmaj the food is better than i remember , but , i 'm not as picky an eater as i was back then either . i remember having had the xxmaj xxunk xxmaj xxunk all those years ago . xxmaj the dish stuck in my memory because there were carrots and raisins in it xxrep 4 . a very odd combination to me , but oh , how it worked ! xxmaj it 's still on the menu , but today i opted for something different . \n",
       " \n",
       "  xxmaj we were a group of three xxrep 4 . hubs , his sis and me . xxmaj he suggested splitting an appetizer 3 ways and then sis and i splitting an entree while he got one for himself . i know , it sounds bad , but his sis and i have very small appetites , so this was actually a very smart way to go and we still ended up with leftovers ! \n",
       " \n",
       "  xxmaj we started out with the sampler platter which consisted of hummus , xxunk ( fried potato and scallion filled pastries ) , tabouleh and baba ganoush served with yogurt sauce . a la free chips and salsa , warmed pita bread with roasted pepper spread and cilantro chutney were brought out too . xxmaj tabouleh xxrep 6 . i get why people like it ; it was very fresh , but raw veggies taste gross to me ! i picked out the scallions in the xxunk and then thought it was very good ! xxmaj the hummus was garlic - y goodness and the baba ganoush was perfect ! i 've had it at other places where it was as sour as a lemon , but here ? xxmaj perfection ! xxmaj pepper spread , another awesome condiment i am newly in love with . xxmaj chutney ? xxmaj do n't love it , do n't hate it , do n't mind it . xxmaj sis and i split the xxmaj ginger xxmaj chicken : breast meat sauteed with ginger and garlic in a light curry sauce with artichokes . xxmaj light curry is definitely true ! i am a curry lover and , although the dish certainly smells curry - licious , the flavor was very light and mild . xxmaj highly recommended for a curry newbie . xxmaj the artichokes xxrep 4 . cooked to perfection . xxmaj no fibrous parts to chew on , at all . xxmaj let the accompanying rice soak up the sauce and enjoy ! xxmaj hubs ordered xxmaj lamb curry : pieces of lamb leg with mushrooms and spinach in a light tomato curry sauce . xxmaj there were also potatoes in it , but they are n't listed in the menu description . xxmaj he let me try a little ... another delicious dish ! xxmaj everything seemingly melted in my mouth ! xxmaj entrees come with either soup or salad . i chose soup , he picked salad . xxmaj the salad is xxmaj romaine based , not iceberg , a definite plus , and hubs reported that the dressing , a very light cucumber concoction , was a nice change . xxmaj the soup ( xxmaj xxunk ) had onions , chick peas , kidney beans , split peas , chicken and lamb in a tomato - y base topped off with a dollop of yogurt . xxmaj how many words are there for delicious ? xxmaj for dessert ? xxmaj baklava , or as they call it , xxmaj xxunk . xxmaj we split it three ways and our server , a very friendly , kind and funny xxmaj russian exchange student , went out of her way to find us the biggest piece . xxmaj it was served with a piece of lemon candied in honey on top . xxmaj am i saying delicious too much ? 'cause that 's what it was xxrep 4 . yummy , yum , yum , yum ! \n",
       " \n",
       "  i do n't think there are any xxmaj xxunk restaurants in the xxmaj milwaukee area , xxmaj xxunk , so if you 're ever looking to open a second location , come on over , we 'd xxup love to have you ! \n",
       " \n",
       " \n",
       "  24 / 2015,xxbos xxmaj pick xxmaj thai is absolutely the best ! ! xxmaj this chef knows what she is doing . xxmaj this is my favourite food ever ! xxmaj green curry . xxmaj this is 100 percent ; without a doubt ; hands down ... the best of the best xxmaj thai food in this city ... in this province ... in the entire xxmaj xxunk . xxmaj you 'd have to go so far xxmaj west , young man , that you will have had reached the xxmaj east once again . xxmaj you 'd have to travel far and wide to get close to the excellence and authenticity of this xxmaj thai green curry . xxmaj ask to speak to the boss lady ... ask her to make you the same vegetarian xxmaj thai green curry that she makes for xxmaj raj ... that 's me . xxmaj my green curry is especially made for me and it is 100 % strictly vegetarian . xxmaj you wo n't find this elsewhere . xxmaj voilà , the sublime excellence , nuance and harmony of xxmaj thai flavour . \n",
       " \n",
       "  xxmaj have you heard of the xxmaj king of xxmaj siam ? xxmaj well this is the story of the xxmaj king and i ... whilst xxunk tradition and hegemony , in my humble opinion , xxunk a most xxunk and antiquated and xxunk convention of social xxunk , popular xxunk , xxunk of the intellect , royal incest and unwarranted elitist hegemony ... notwithstanding all that ... sometimes the people just want you to rule them with an iron xxunk donkey punch to the kidneys . xxmaj does it make sense that people would disregard their seething xxunk hatred for one another in order to unite in love , harmony and xxunk - all the way down in the dirt - beneath some arbitrary monarch ? xxmaj they barely have food and water but what they really need is pomp and circumstance and royal pageantry . xxmaj so , basically , take a country where there is a lot of civil unrest based on ethnic , xxunk and / or religious differences and just establish a monarchy . xxmaj that should solve all the problems in the entire world . xxmaj yes , indeed , the penultimate solution is to unify people with all of their hatred for one another by somehow xxunk their allegiance and support and loyalty in one lofty , xxunk , unaccountable and arbitrary xxunk of a person , in relation to whom , they should all feel inferior . xxmaj they would need to obey and love this monarch who would tell them all what they can and can not do and how and how not to think . xxmaj c'mon xxmaj rama xxup xxunk , that is a bit amateurish ... not very fly for a xxmaj thai guy . \n",
       " \n",
       "  i love you , xxmaj red xxmaj shirts ! xxup xxunk ! \n",
       " \n",
       "  xxmaj monarchism xxunk the need for the subjects being ruled over ; to , in effect , maintain an individual and societal state of suspended disbelief . xxmaj disbelief in the xxunk of the individual in relation to the welfare of society , disbelief in one 's individual agency and authority , disbelief in the equality of all people and disbelief in good xxunk , true democracy , accountability and transparency . \n",
       " \n",
       "  xxmaj monarchism perpetuates old xxunk such as the concept of race and the idea that one ethnicity can be superior to another ethnicity and therefore those born to this royal family or that royal family are naturally born to rule over the obviously inferior masses . xxmaj it perpetuates xxunk ; in our modern society one should not be expected to defer to another or hold another above oneself simply because of birth . xxmaj it perpetuates discrimination based bullshit ; most of us can not become xxmaj king or xxmaj queen of xxmaj canada . xxmaj it also perpetuates discrimination based on gender in the case of male xxunk . xxmaj fuck that shit ! i 'm all about the xxup vox xxup xxunk ! ! xxmaj let 's hear it for equality , folks . \n",
       " \n",
       "  xxmaj monarchy makes it impossible to separate church & state as the monarch is usually both head of state and head of the church . xxmaj sometimes the monarch is a god or xxunk . xxmaj is n't xxmaj queen xxmaj elisabeth like xxmaj jesus ' second cousin or something ? xxmaj wait would that make her also her own father ? xxmaj talk about incest ! xxmaj the xxmaj emperor of xxmaj japan is like a xxmaj shinto xxmaj god . xxmaj the xxmaj king of xxmaj thailand is like an incarnation of the xxmaj hindu avatar xxmaj rama ! xxmaj what ? \n",
       " \n",
       "  xxmaj monarchism is also problematic for the xxunk themselves what with all the incest and xxunk . xxmaj they also have a hard time ( poor little rich kid ) growing up , what with the dysfunctional household and obvious abnormal childhood . \n",
       " \n",
       "  xxmaj monarchism is also very expensive and modern monarchy remains unaccountable to taxpayers . xxmaj xxunk pay over xxunk 100 million per xxunk and that number may not even be the \" real mccoy \" as the finances are exempt from the xxmaj access to xxmaj information xxmaj act . xxmaj canada spends about 250 $ million each year ; not including our annual gifting to the crown of twenty purebred horses from the xxup xxunk . xxmaj each horse costs about a cool 20 million each . \n",
       " \n",
       "  xxmaj as long as people remain subjects of a monarch and not citizens of a republic their political and social attitudes will inevitably retain a certain xxunk idiocy which has no place in modernity . \n",
       " \n",
       "  xxmaj ultimately , monarchy ( the monarch , monarchism and the institution ) makes the country which they rule over appear backwards and ill suited for a just society that ostensibly is conducive to a secular , multicultural , and xxunk civil state . \n",
       " \n",
       "  xxmaj off with their figurative heads . xxmaj get it ? xxmaj figure head ? xxmaj go figure ... it 's all about the economy , stupid,xxbos i 've been a member at this gym for ~2 years . xxmaj my credit card expired on 04 / 16 , which prompted the owner , xxmaj jackie , to call me . xxmaj at that time xxmaj jackie asked me to place a new card on file and said otherwise my gym access would be suspended . i came down with bronchitis shortly after , and never placed a new card on file . \n",
       " \n",
       "  xxmaj fast forward to 09 / 16 and i see that i 've been billed , $ 34.95 , every month , since my card expired , including a $ 20.00 decline fee on 05 / 16 . i call the gym , to which the employees have to wait for xxmaj jackie to call me back . xxmaj fine . xxmaj jackie calls me back the next day , says she ca n't find my file , and she 'd have to call me back from home . xxmaj fine . xxmaj jackie calls me back the next day from home and says my file is at the gym . xxmaj um , what ? xxmaj she proceeds to tell me she researched my question and emphatically states that i had , in fact , come in and put a new card on file in 05 / 16 . xxmaj no i did not . i had bronchitis . xxmaj she swears i did , and asks me to meet her at the gym the following day so she may show me my file and the document i signed on 05 / 16 authorizing the new card . xxmaj fine . i meet her at the gym the following day - shockingly - she says she does n't have the record of the authorization for the new card . xxmaj she then protests that i was n't in fact billed for the months past 04 / 16 , to which i produce my statement to completely refute her new claim . xxmaj then she says she ca n't tell which credit card that statement is attached to , so i produce the expired card from 04 / 16 that i still had in my wallet for i do n't know why sans nostalgia . \n",
       " \n",
       "  xxmaj she finally relents and agrees to refund 05 / 16 , 06 / 16 , and 07 / 16 plus the $ 20.00 decline fee . i say xxup ok . xxmaj then she asks for a new card to place on file ; when i inform her that i 'd like to cancel , she becomes unglued . xxmaj she asks why i would like to cancel , i respond by xxunk the way i 've been treated , directly , by her . i remind her that she , without saying the words , called me a liar . xxmaj she quipped that she was \" not making stuff up \" . i calmly remind her that in fact , she was \" making stuff up \" when she said that i had placed a new card on file 05 / 16 . xxmaj her reply ? xxmaj she did n't \" make stuff up \" she \" made a mistake \" and then tried to turn it around on me asking if i had ever made a mistake ? ( xxmaj for the record i 'm sure that i have , in fact , xxunk , but in this instance i also did n't try to claim the contrary for purposes of argument . ) \n",
       " \n",
       "  xxmaj she said she was n't going to \" help me out \" if i was just going to cancel . i said it 's not about helping me out , it 's about not defrauding your members . \n",
       " \n",
       "  xxmaj had xxmaj jackie simply treated me with respect , instead of acting like i was trying to get something for nothing , i would have just placed a new card on file . i actually had the new card sitting physically on the table between us . xxmaj her own moral xxunk was her undoing . xxmaj how can she morally xxunk \n",
       " \n",
       "  1 ) xxmaj informing me my access to the gym would be revoked hereafter from an inability to charge my expired credit card \n",
       " \n",
       "  2 ) xxmaj continuing to charge my expired credit card , presumably through some agreement between herself , xxmaj xxunk , and xxmaj visa . \n",
       " \n",
       "  3 ) xxmaj knowing i did not use the gym due to # 1 then refuse to refund the payments for the gym i did n't use \n",
       " \n",
       "  xxmaj as per the actual gym , it does get busy between 5 - 7pm . xxmaj overcrowding was a huge issue when the price was $ 19.95 / month . xxmaj less so now that xxup eos opened down the street and xxmaj jackie raised the price at xxmaj snap to $ 34.95 / month . xxmaj only one of most machines , including a squat rack , which i have had to wait up to 45 minutes to use , however this was only on one occasion . xxmaj missy is exceptionally welcoming , knowledgeable , and friendly . xxmaj jeff rarely speaks to anyone , but he at least always parks in the same spot , so if nothing else he 's consistent . xxmaj outside of this xxunk billing issue and subsequent treatment by the owner i never had any issues and would previously have recommended the gym if it 's the geographically most convenient option for you , as it was me . xxmaj but now , i hope the xxmaj san xxmaj andrea fault runs precisely down the center of the gym and splits the place in two . \n",
       " \n",
       "  xxmaj snap xxmaj fitness corporate does n't appear to have a working number , so i 'll have to avail myself to the xxmaj yelp gods to recover my $ 125 . \n",
       " \n",
       "  xxmaj legal xxmaj disclaimer - xxmaj all statements xxunk are solely my own opinion , and in no way may be construed as fact .,xxbos xxmaj do not buy from this company and site . i 've had s xxrep 4 o many issues than satisfactory . xxmaj the company has been around for a long time but still does n't have it together yet . xxmaj my final straw was when they refuse to give me a refund for receiving something that was n't what i purchased based on their listing . xxmaj with this company you do not know what you are going to get and in the end it 's not worth the time nor hassle . \n",
       " \n",
       "  xxup bad xxup business xxup practices , xxup rude xxup staff xxup members , xxup hidden xxup fees xxup and xxup policies , xxup and xxup false xxup advertisements . \n",
       "  xxmaj my experience with them : \n",
       "  1 . xxmaj diving 25 - 30 minutes each way to pick up something they lost or ca n't find . \n",
       "  2 . xxmaj xxunk 25 - 30 minutes each way to return an item that was either broken ( when listed new ) or was n't as listed . \n",
       "  3 . ( xxmaj sometimes ) xxmaj rude staff acting as if you are in the wrong for paying for broken or mislead items . \n",
       "  4 . xxmaj their rules : pay for item at the end or day or they will automatically deduct from your account . ( i think this rule is fair ) . xxmaj pick up within 7 days or we will re - list it and charge you 35 - 45 % as a relisting fee . ( i 'm not sure which percentage it is , but they want to charge you for an item you did n't pick up yet and put back on the market to make more money from it ... bad practice ) . xxmaj you have seven days to return an item ( which is horrible because this is xxup not xxup noted xxup in xxup their xxup policy xxup anywhere ) xxmaj it 's something they \" tell \" you so that they can get rid of the item . \n",
       "  xxmaj you do n't get compensated for our time wasted for items you have to return because they sold you something that was n't listed properly . xxmaj you do n't get compensated for you time wasted for items they lost or can not find . \n",
       "  5 . i purchased an item and check it and the cord was ripped . xxmaj they looked up the cord online and said i could buy one for $ 10 . ( which is interesting because you now want me to go out my way to find a cord , order it or pick on up because you did n't like your item properly ... okay ) . xxmaj so you know what they initially suggested xxrep 4 . to give me a $ 5 credit . xxmaj you saw the cord to replace cost $ 10 and you suggested to give me a $ 5 credit ... smh . \n",
       "  6 . xxmaj charging extra fees . xxmaj they charge delivery fees if the item is not picked up on a specific day and moved . ... i have no problem with this but like the 7 day return policy this is not xxup listed . xxmaj no one knows until they charge you . \n",
       "  7 . i mainly buy \" new \" items .. and somehow i get items that are either broken , damaged , or used . xxmaj it become annoying after a while . \n",
       "  8 . xxmaj staff : xxmaj horrible , rude , and do not care besides the two i mention below . \n",
       " \n",
       "  i last purchased a canopy from them . xxmaj due to the fact that the last one i purchased from they was broken and could n't use , i check this one to make sure i could use it and it was okay . xxmaj the day i used it for my event i found out that it was the xxup wrong size . xxmaj they listed as a 10x10 and instead it was a 8x10 . xxmaj that 's huge difference . i did n't think would have to check the size of it . i can not use the canopy and they will not accept it as a return . xxmaj you would think that a business would correct something that was xxup wrong xxup on xxup their xxup end . xxmaj they say oh well , tough luck . xxmaj as a small business owner this is not okay . i paid $ 75 for the canopy and i can not use it . i and others like myself do not have $ 75 to be wasted . \n",
       " \n",
       "  i called and spoke to xxmaj luis at the xxmaj cheyenne location and he said he 's not going to do anything . xxmaj then i called the car auction place to get the owner information . i would think as a small business owner you would want to know how your staff treats customers . i spoke with xxmaj laura and she took my info and said she would call back . i waited a week and half and no call , so i called her back . xxmaj she had an attitude and was very dismissive . xxmaj said she would pass along to xxmaj xxunk at xxmaj cheyenne which i have n't hear back from yet . xxmaj this leaves me to this point . \n",
       " \n",
       "  xxmaj in my opinion they treat the customers like crap . xxmaj they post false information and expect you to go out your way and do everything and nothing falls on them . xxup not xxup good xxup business . xxmaj it 's very shady and they will get nothing else from me . \n",
       " \n",
       "  xxmaj so you all know , i 've spent almost 7k with this company in less than a year . xxmaj some stuff was good , some was horrible . xxmaj it has been a 50 / 50 for me . i was open to still risking it until this last go around . xxmaj when you treat people like crap then i do n't want to give you any of my business . xxmaj you all should really think bout this before buying from them . xxmaj if you experience anything that i said above , then i suggest you write a review yourself and stop doing business here . xxmaj not good at all . \n",
       " \n",
       "  i will note that xxmaj xxunk and xxmaj xxunk at xxmaj henderson location has always been great staff to me .\n",
       "y: LMLabelList\n",
       ",,,,\n",
       "Path: /home/ubuntu/.fastai/data/yelp;\n",
       "\n",
       "Valid: LabelList (2000 items)\n",
       "x: LMTextList\n",
       "xxbos xxmaj first of all , i would like to xxmaj thank to xxmaj pam , xxmaj tracey , xxmaj bill , all the staffs , & xxmaj xxunk xxunk 's play mate ) @ xxmaj just xxmaj like xxmaj home who have been very helpful and giving their love to my dog , xxmaj xxunk ! i think xxmaj it is time for me to write a pleasant review about this nice doggy day care / boarding place that we 've been experienced since early this year xxup :p \n",
       " \n",
       "  xxmaj how would you feel if every single day you get a note on your door saying , \" xxmaj your dog has been barking for over 2 hrs ! xxmaj very xxmaj annoying dog ! xxmaj animal xxmaj control & xxmaj police xxmaj dept . have been called ! xxmaj do something about it , xxup last xxmaj warning ! ! ! \" i was getting some notes right after i moved in . xxmaj so , i became very worried & had a big concern about leaving my dog alone while i was at work . xxmaj when i moved in to a new place , suddenly my dog , xxmaj xxunk , he started to bark nonstop . i never knew that he felt so insecure staying home by himself .. i totally understand that all the pets require some time to adjust with their new environment . i love my dog no matter what but i am always willing to correct any problem that my poor dog causes to the new neighbors . i have tried many different things to help my be loving pup to be safe & happy : long hours of walk , more play time for enough exercise , 3 days of doggy park visits a week , xxunk collar on him , retraining him for good behavior , & so on . xxmaj even though we put our effort together , xxmaj he wo n't stop barking according to my next door neighbor and which was causing a lot of trouble . i was very frustrated and stressed out about it :( :( i had to come up with other solutions asap xxrep 4 . \n",
       " \n",
       "  xxmaj meanwhile , i was looking for a good doggy day care place that xxmaj xxunk would feel safe and comfortable , , like some facilities that they do n't put xxmaj xxunk in a cage for a long period of time . i had several experiences xxunk places in the past that xxmaj xxunk could n't control his bowel movement or was having a diarrhea for several days after returning home from the facilities . i finally found * xxmaj just xxmaj like xxmaj home 's website . xxmaj instead of reading all the descriptions on their xxunk , i decided to check out the place by myself before putting my dog into the place that i have no knowledge of ... \n",
       "  xxmaj they provide some great amenities ... \n",
       "  1 . in the backyard - xxmaj dogs can play in various outdoor areas : there is a big synthetic turf lawn area that the dogs can feel free to play one xxunk them in terms of size , temperament , energy level , and age ) xxmaj for example , xxmaj xxunk is xxunk - old , still has a high energy level so that the dog sitter plays with him more often or they do n't mind if xxmaj xxunk follows them around due to him showing a separation anxiety . \n",
       "  2 . xxmaj there is a little playground area with a slide which my dog enjoys to ride the most :) \n",
       "  3 . xxmaj they recently built a large cooling dog xxunk a / c ) that dogs can go in and out whenever they want to . \n",
       "  4 . xxmaj all the rooms are decorated as a nice living room or a family room with comfy couches , tables , lamps , & xxup tv so that the dogs would feel more relaxed and comfortable while they are on xxunk dogs ' room / small dogs ' room ) . \n",
       "  5 . xxmaj there 's always someone staying with the dogs at night and watch them . \n",
       "  6 . xxmaj the grooming service is available with very reasonable prices \n",
       "  7 . xxmaj they have a web cam system available . xxmaj ex . i could watch my dog whenever i 'm on my computer while i was gone overseas ) . \n",
       "  8 . xxmaj the hours are xxunk on xxmaj mon - xxmaj sun . \n",
       "  9 . xxmaj they try to keep the place clean and nice . \n",
       "  10 . you can find a great deal on xxunk xxmaj xxunk & xxmaj overnight stay ) \n",
       "  11 . xxmaj especially , xxmaj pam & xxmaj tracey , they 've been very helpful giving me some tips and advises how to take care xxmaj xxunk at home . xxmaj they really take great care of dogs :) \n",
       " \n",
       "  i 've been purchased the xxunk days of day care & 30 days of overnight stay ) with a great prepaid discount ! \n",
       " \n",
       "  xxmaj maybe , some people might think i am doing too much for my dog but without xxmaj just xxmaj like xxmaj home , i must gone crazy at that time .. xxmaj oh well , now i can smile and be happy about the outcome because we both are doing a lot better . xxmaj and also it might be a good idea that let the dog play with other dogs once in a while at day care . xxmaj as a result , dogs become more socialized with other dogs and people , i think . \n",
       "  i 'm really happy to find this place and i already recommend to several xxmaj yelp friends , xxmaj anthony xxunk ) , xxmaj jade xxunk ) & xxmaj sylvia xxunk ) . i hope they have a great experience as well . xxmaj now days , xxmaj xxunk seems like he is comfortable with our new place that we 're living in xxrep 4 . \n",
       "  xxmaj he is doing a lot better than before because he spends his day exercising outside , he eats and sleeps better at home . \n",
       " \n",
       "  xxmaj just xxmaj like xxmaj home ... xxmaj you are my savior xxup :d,xxbos xxmaj about a year ago i found xxmaj karen after doing some research online . xxmaj after 3 years of struggling with my diet after being diagnosed as xxmaj celiac , i finally asked for help . xxmaj initially , i sought help because i was frustrated by weight gain after following a xxmaj celiac - friendly diet . i signed up for three sessions as part of a weight loss program . \n",
       " \n",
       "  xxmaj after my first appointment , xxmaj karen recommended food sensitivity testing and i was surprised to find that there were many , many foods that were causing problems . xxmaj according to xxmaj karen , eliminating these foods would lead to many improvements . xxmaj karen told me that many things would change . xxmaj she told me not to expect overnight results . xxmaj this was not a quick fix . i could expect things like clearer skin , reduced sinus inflammation , better sleep , improved brain function , reduced muscle pain , more energy , and weight loss . xxmaj she said inflammation would be reduced before weight loss and that people would notice that first . i admit that i was skeptical at first . xxmaj it all sounded too good to be true . xxmaj but i trusted in her method . \n",
       " \n",
       "  xxmaj my initial 3 weight loss sessions came and went without the desired weight loss that i had anticipated . xxmaj however , the ultimate goal xxmaj karen had in mind was making my body work properly , not lose weight . xxmaj the weight loss would come , i was assured . xxmaj although eliminating foods was trying and difficult at times , i trusted that she was in the right track . xxmaj instead , we focused on other xxunk , like reducing inflammation , and improving bathroom habits , as well as a general feeling of wellness . xxmaj after 9 months , i was xxunk for food sensitivities and had far less progress with the responses than xxmaj karen expected . xxmaj still , she did not give up . xxmaj we pressed on and added supplements , and altered some of the ways i was preparing foods . xxmaj it worked . \n",
       " \n",
       "  xxmaj it has been almost a year to the day since my first visit with xxmaj karen . xxmaj in the last year , xxup everything that xxmaj karen said during our first visit happened ! xxmaj sometimes so slowly that i barely noticed . xxmaj initially , it was reduced inflammation and very little weight loss . xxmaj however , as xxmaj karen had told me , the weight came off . xxmaj looking back , it is amazing how far i 've come . i have lost 50 lbs . in as many weeks . xxmaj after years of inflammation causing me to look \" puffy \" i am amazed when i look in the mirror . xxmaj as she had said , my skin was clearer , and my inflammation was reduced significantly . i sleep more soundly and do not feel tired when i wake up anymore . i used to have coffee each morning to help me wake up but i no longer feel like it is necessary . i feel happier , clearer and more energized mentally . xxmaj what i had attributed to \" mommy fog \" was actually fixed by changing the foods i ate . \n",
       " \n",
       "  xxmaj if you are truly ready for a change , xxmaj karen has an amazing background of expertise to help . xxmaj she stays current on new research and is not afraid to adjust a plan to get results . xxmaj she truly changed my life and for the first time ever , i am back in control . \n",
       " \n",
       "  i am not saying this process was easy or that it was quick , but it is definitely worth doing if you are ready to take responsibility for your health and follow her recommendations . i am glad that i did .,xxbos xxup ok . i must update . i must . xxmaj we went back a couple months ago , and i absolutely love this place . i hate seeing 4 stars from me , when i know this is my favorite place to xxunk - out at . xxmaj lets update , shall we ? \n",
       " \n",
       "  xxunk / xxmaj xxunk \n",
       "  i love the appetizers they have on the menu and how they pair so well with the wines they offer . xxmaj although it is simple to pair wine and cheese and semi - upscale food together , there are still ways to fudge it up . xxmaj the options they give you are relevant and easily interchangeable upon your next visit . xxmaj the wines here are mind - blowing . xxmaj yes , they come from out of state , but does that matter ? xxup no it does n't ! xxmaj they grow these grapes with extreme care , ship them in here pronto , and the wine masters take care of the rest . xxmaj the wines have significant flavor and volume , just like you expect . xxmaj you do not miss out on value and taste , each wine is tailored for your pallet . i love my red 's and they sure do stock some mighty tasty options . xxmaj the xxmaj cab 's and reds offered here really do have some personality that even xxunk 's can enjoy . xxmaj they also offer a large variety of sweet wines , which is a little different . xxmaj it allows my fiance and others whom are n't big on traditional wines to get into it a bit . xxmaj the wide variety of options for wine here makes it a great spot to run to ! \n",
       " \n",
       "  xxunk / xxmaj xxunk \n",
       "  xxmaj the vibe is so relaxed for a wine spot , it really is perfect for the city here . xxmaj games are available to play on the high top tables and they have extended the backroom to be available for parties and the events they hold . xxmaj the atmosphere really ties the wines together well . xxmaj the service has always been excellent , and each time we came with a xxmaj groupon . i would come here if they did n't have a xxmaj groupon , by the way :-) .. xxmaj anyway , the service was above par even with the coupon , they have had a smile on their faces each time we came in and it never left their face when they came to serve us . xxmaj last time in we brought my mom and dad for a paired flight . xxmaj my mother is a very picky wine person , and she did not like the wines xxunk xxmaj dad loved them , and he is big on red 's like me ... go figure ) . xxmaj point is , the server was not taken aback by her assertions that she did not like the wines , and flawlessly provided her alternatives on the menu she would like . xxmaj when she started getting uber picky , she was provided some wine 's not listed on the menu which she did like , ending her random xxunk . xxmaj our server was helpful and fast despite a busy xxmaj friday night . xxmaj there was nothing more we could have asked of them , really did a stand - up job ! \n",
       " \n",
       "  xxunk / xxmaj xxunk \n",
       "  xxmaj the owner reached out to me after my last review . xxmaj he thanked me for the review ... the thing is , they deserve the accolades . i hope adding my extra two cents to the fray will bring a big more attention to the location . i have n't had a bad experience here , nor a bad wine . i still assert this place is the best place for authentic wines in the basin here xxrep 4 . i mean , come on they bottle xxmaj xxunk 's wines now guys ! xxmaj available at xxmaj total xxmaj wine and most of the grocery stores out here , they are the local wine pros . xxmaj do not mistake them for selling out , they hardly have done that . xxmaj they are just making it easier for me to get the wines i like at a store nearby . 5 stars for great service , great food , outstanding wines , perfect atmosphere and a good owner who knows his clientele . xxmaj xxunk !,xxbos xxmaj xxunk xxmaj sushi is a joke , because of them i need to go back and re - evaluate xxmaj tokyo xxmaj sushi xxmaj house that i evaluated yesterday and up them to a 2 star , unfortunately xxmaj xxunk xxmaj sushi is much worse and they truly deserve the covenant 1 star . \n",
       " \n",
       "  i 'm on a quest to rate all of the sushi establishments within 5 miles of where i work . xxmaj when i went to xxmaj xxunk xxmaj sushi today for lunch , i walked in at xxunk and i was the only person in the restaurant , other than 2 sushi chefs , the host / waiter and what i believe to be the owner . \n",
       "  xxmaj so there i am one person with the honor of having 4 individuals tend to my sushi needs . xxmaj under these circumstances , you would believe the sushi i was about to ingest would be amazing , why not , without any other tables or orders to distract the sushi chef from my order , i was sure i was in for a sushi experience like no other . \n",
       " \n",
       "  i immediately asked for extra wasabi and my waiter xxmaj ronald was quick to respond , nothing fancy mind you like you would normally see in other restaurants , just a small round plate with ginger and wasabi just thrown on the plate , very messy presentation . xxmaj so i began to mix my normal soy sauce with wasabi and noticed the wasabi had no heat , so i added even more wasabi in an attempt to make it hotter and to no avail . xxmaj the wasabi was clearly not fresh ; i ended up with a paste so thick in an attempt to get some heat that you would have thought i was mixing grout for bathroom tile work . \n",
       " \n",
       "  i ordered the xxmaj poke xxmaj salad and it appeared very nice but i was a little taken back by the sweetness . i then ordered the xxmaj xxunk xxmaj roll and my usual xxmaj unagi xxmaj hand xxmaj roll so that i can gauge the quality of fresh fish to come by sampling the fresh water eel , oh my god , i nearly passed out with disgust as to what was brought to my table . xxmaj the eel was burnt , cold and just simply hard to chew ; the only other eel in my life that tasted even remotely similar to this was what i once found in a can in the supermarket . xxmaj being the only person in the restaurant , the eel should have been freshly broiled and come to my table still warm , instead it was cold , burnt and had a consistency of beef jerky . i would be embarrassed if i took a client here , ashamed really . \n",
       " \n",
       "  i ended up sending both the eel hand role and the spicy tuna hand role back when they arrived because nearly 80 % of the roll was rice and virtually no protein . xxmaj again , the eel was horrible , xxmaj if i had to lay money down and bet , i would say the eel came from a can and was not fresh at all . \n",
       " \n",
       "  i went on to order xxmaj albacore and it came out dry and looked like someone had already chewed it and put it back on the plate ( cuts all across the fish ) . i also ordered the xxmaj surf xxmaj clam and this came out slimy , surf clam never has a slimy sheen on it unless it 's old . \n",
       "  i was trying so hard to make this place work , i tried as much as i could to see if i could find something on the menu to make the trip to xxmaj xxunk xxmaj sushi enjoyable and worth it , but i just could n't . \n",
       " \n",
       "  i ordered the xxmaj salmon xxmaj skin hand roll and it was the worst i had ever tasted in my life , the xxmaj salmon xxmaj skin was pieces of skin about 4 - xxunk long sticking out of the hand roll , not 1 or 2 pieces but what appeared to be the whole damn salmon , it was truly overkill . xxmaj when i xxunk into the xxmaj salmon xxmaj skin hand roll , there was such a load crunch i believe people were looking around to see if metal was xxunk from a car accident outside . xxmaj it was awful , i felt like i was eating a pork rind hand roll , it was way to crunchy and just too much of it . i then ordered the xxup xxunk xxmaj roll thinking , not too complicated , it 's a roll with only three little letters for a name , so i thought to myself , as long as there was n't any more of that dreadful eel in the roll , maybe this roll will be a winner . xxmaj who knew , how do you screw up a roll that has xxmaj tuna , xxmaj salmon , xxmaj cream xxmaj cheese and xxmaj avocado ; simple , cut the pieces so big you need someone without just in case you need someone to perform the xxmaj xxunk xxmaj maneuver on you when you choke . xxmaj only 6 piece came out where there should have been 8 and possible 10 for a cut roll , the pieces were just too thick to be enjoyable , nobody wants that much cream cheese in their mouth at one time , unless you 're sitting down to put the hurt on a lox bagel . \n",
       " \n",
       "  xxmaj sushi is about freshness , textures , flavors , combinations of flavors and the perfect balance of vinegar rice to raw fish . xxmaj if any of these are not correct , it ruins the entire sushi experience . \n",
       " \n",
       "  xxmaj xxunk xxmaj sushi reminds me of amateur hour at the xxmaj laugh xxmaj factory , although they did get a laugh out of me , as i said when i opened , what a xxmaj joke . i could n't believe i was actually paying money for this crap , just about anyone could read a book at home and learn how to cut , prepare and assemble better tasting sushi than xxmaj xxunk sushi . xxmaj do n't waste your time and money going here , there 's just not enough customers for the fish to be fresh , hence the xxmaj unagi in a can , slimy xxmaj surf xxmaj clam and already chewed xxmaj albacore .,xxbos xxmaj buckle your asses up boys and girls . xxmaj here is one of the few honest and unprompted reviews you 'll find on this page . xxmaj sit down and join me will you ? \n",
       " \n",
       "  xxmaj now , there are a few consistencies i tend to see on xxmaj yelp : \n",
       " \n",
       "  xxmaj the wedding industry averages 5 stars \n",
       "  xxmaj restaurants get the gambit \n",
       "  xxmaj apartment complexes get absolutely xxunk . \n",
       " \n",
       "  xxmaj why do apartments get the shaft ? xxmaj people only go on their apartment 's xxmaj yelp page when they 're pissed off . \n",
       " \n",
       "  xxmaj as i sit here in my last day , i 'll hit you with my pros and cons and explain why this place ended with 5 stars . \n",
       " \n",
       "  xxmaj might as well start with the cons : \n",
       " \n",
       "  -the garage gates are literally always broken . xxmaj at least 1 out of the 4 entry / xxunk is always permanently up or permanently down . xxmaj the moment they fix one , another immediately decides to break . xxmaj it 's honestly impressive how much it happens . \n",
       "  xxunk off the first one , my bike got stolen from the garage and nothing could be done . \n",
       "  -it 's a bit of a crapshoot on noise . xxmaj occasionally you get that asshat peeling out down the street or talking loudly . xxmaj but honestly it was n't that bothersome . xxmaj it 's nothing compared to the places in old town or xxmaj tempe . \n",
       "  -it 's a bit pricy i guess ? i 've seen people complain about it but i think it 's xxup well worth the money . \n",
       " \n",
       "  xxmaj this brings me to the pros ! \n",
       " \n",
       "  xxunk balls this place is nice . xxmaj all the units are decked the hell out . kitchen is fantastic , washer / dryer in every until , storage , etc . i lived on the third floor , kept my place tidy , and literally only ever had one bug ( a fly ) in my place and that 's cause i left the door open . \n",
       "  -the parking garage is indoors ( go figure ) . xxmaj compared to pretty much everywhere else that has outdoor parking , this is a fucking xxup dream . xxmaj arizona summers can suck it . xxmaj also , the gate issue is more of an inconvenience than anything . \n",
       "  -the front office staff are the fucking best ! xxmaj here 's looking at you , xxmaj brenda ! xxmaj they all learn your names and do what they can to help . xxmaj one morning , my xxup ac went out and it was fixed by the time i got home . xxmaj every little thing is handled super efficiently by maintenance . xxmaj also , there are a bunch of tvs in the lobby , during xxup nfl season , they realized a bunch of us congregated down there and the next weekend had the xxunk package purchased . \n",
       "  -the location - $ 7 lyft ride to xxmaj old town or xxmaj mill . xxmaj ca n't beat that . xxmaj plus you 're peeing distance from 3 great bars and a xxmaj dutch xxmaj bros. \n",
       "  -the coffee machine . xxmaj holy fucking hell that machine pretty much paid for my rent every month . xxmaj it has options for days . xxmaj saved me an insane amount of money on caffeine . \n",
       "  -the pool . xxmaj it 's quite nice . i love the ambiance out there . xxmaj they recently locked down on poolside shenanigans . xxmaj you ca n't throw a wager down there . xxmaj that being said , if you have music on and it 's not obnoxious and you keep your beer discreet , then you can have a nice xxmaj saturday down there . xxmaj just be cool . \n",
       " \n",
       "  xxmaj anyway there it is . xxmaj live here . xxmaj it 's great . i gave it 5 stars because even with the small issues , it 's so much better than anywhere i 've ever lived \n",
       " \n",
       "  xxmaj protip - all large apartment rent structures are built on an algorithm . xxmaj that takes into account supply and demand . xxmaj if you have a bit of time , it 's worth it to check day after day to see what the current price is .\n",
       "y: LMLabelList\n",
       ",,,,\n",
       "Path: /home/ubuntu/.fastai/data/yelp;\n",
       "\n",
       "Test: None, model=SequentialRNN(\n",
       "  (0): AWD_LSTM(\n",
       "    (encoder): Embedding(46441, 400, padding_idx=1)\n",
       "    (encoder_dp): EmbeddingDropout(\n",
       "      (emb): Embedding(46441, 400, padding_idx=1)\n",
       "    )\n",
       "    (rnns): ModuleList(\n",
       "      (0): WeightDropout(\n",
       "        (module): LSTM(400, 1150, batch_first=True)\n",
       "      )\n",
       "      (1): WeightDropout(\n",
       "        (module): LSTM(1150, 1150, batch_first=True)\n",
       "      )\n",
       "      (2): WeightDropout(\n",
       "        (module): LSTM(1150, 400, batch_first=True)\n",
       "      )\n",
       "    )\n",
       "    (input_dp): RNNDropout()\n",
       "    (hidden_dps): ModuleList(\n",
       "      (0): RNNDropout()\n",
       "      (1): RNNDropout()\n",
       "      (2): RNNDropout()\n",
       "    )\n",
       "  )\n",
       "  (1): LinearDecoder(\n",
       "    (decoder): Linear(in_features=400, out_features=46441, bias=True)\n",
       "    (output_dp): RNNDropout()\n",
       "  )\n",
       "), opt_func=functools.partial(<class 'torch.optim.adam.Adam'>, betas=(0.9, 0.99)), loss_func=FlattenedLoss of CrossEntropyLoss(), metrics=[<function accuracy at 0x7f3f61d628c8>], true_wd=True, bn_wd=True, wd=0.01, train_bn=True, path=PosixPath('/home/ubuntu/.fastai/data/yelp'), model_dir='models', callback_fns=[functools.partial(<class 'fastai.basic_train.Recorder'>, add_time=True, silent=False)], callbacks=[RNNTrainer\n",
       "learn: LanguageLearner(data=TextLMDataBunch;\n",
       "\n",
       "Train: LabelList (18000 items)\n",
       "x: LMTextList\n",
       "xxbos xxmaj hi all . xxmaj wanted to give a 6 month update - pros and con 's and some good tips . i apologize to folks that sent me messages directly , i did n't realize how yelp messages worked . \n",
       " \n",
       "  xxmaj first off , getting electrical construction stuff done to your house is very difficult . xxmaj there are lots of permits and approvals required . xxmaj be prepared for a lengthy process of getting plans approved , work scheduled , inspections scheduled and approved etc . xxmaj it took a while for ours to get done , but it was worth the wait . xxmaj our roof has flat cement tiles - easier to walk on and install stuff on , i 'm not aware of any damaged tiles , but if your roof has those beautiful curved tiles , i would expect a harder install process as one reviewer can attest . i think that xxmaj solar xxmaj city should send their \" crack \" team of repair dudes to that guys house to make it right and post new pictures of nice matching tiles . \n",
       " \n",
       "  xxmaj pro 's : xxmaj the panels are installed and working like they should . xxmaj we are satisfied with their performance and we are seeing cost savings every month . i ca n't tell how much because we were on the monthly average plan , so we still have a positive balance with xxup srp . xxmaj our monthly balanced payment amount was 225 - 240 per month year round . xxmaj we are paying less than that every month with the summer rapidly approaching . \n",
       "  i contacted xxmaj solar xxmaj city a few times and got good service every time . xxmaj once to ask about the \" flip the switch \" to activate the panels ( i thought i was supposed to do that but there was one final inspection by xxup srp and xxmaj solar xxmaj city remaining - they came out , did the inspection and they flipped the switch ) . \n",
       "  xxmaj another time was to express my indignation about a 15 dollar surcharge added to my bill because i did not allow them to withdraw directly from my bank account . i had set up an automatic bill pay yet that was n't the same thing to them . xxmaj the 15 dollar surcharge is in the contract , so while i was unhappy about it , i did sign the contract . i found a solution . i have multiple bank accounts ( due to relocating to xxmaj phoenix ) and one is my active account and the other has a small savings and check balance to remain active . xxmaj now i send a \" payment \" to my secondary account and let them take their money from the secondary account . xxmaj they get their money , i save 15 dollars and my main checking account is isolated from \" auto debit \" robots . \n",
       "  xxmaj you are helping reduce the load on the grid during peak times ! xxmaj this helps avoid xxunk xxunk because of too much demand and not enough coming from the power plants . xxup srp will have to shut down one of their big coal plants soon ( thanks xxup epa ) and that means more stress on their grid . xxmaj anything to reduce that stress is a good thing , and we are going green to boot ... \n",
       " \n",
       "  xxmaj con 's : xxmaj you have installers up on your roof putting stuff up there . xxmaj not every install team is comprised of anal - retentive engineers , so be prepared for the possibility of a bit of stuff left laying around ( there is a water bottle that fell onto a lower level that is still there , a couple pieces of scrap that fell from the roof etc ) . xxmaj nothing that was worthy of a complaint call , but just know that construction is messy . \n",
       "  i 'm not seeing evidence that xxup srp is \" buying \" our excess electricity , they install these new electronic meters , so you ca n't see the wheel spinning backwards and the numbers count in reverse or anything like that . xxmaj our typical bill from xxup srp has a solar connection fee of about 17 bucks , and a small balance of electricity that we purchase , so maybe there is some magical process that happens . \n",
       "  xxmaj it will take some time from the day that you sign the agreement to when they go live . xxmaj ours went pretty quickly and it was still around 2 - 3 months from signed deal to generating electricity . a friend 's took more like 6 months , but they are generating electricity now too . \n",
       " \n",
       "  xxmaj tip : xxmaj remember that you signed an agreement to buy the electricity from your panels - use it ! xxmaj it took us a while to get into the mode of running stuff during the daylight hours ( dishwasher , laundry , pool pump , and we keep the xxup ac about 4 - 5 degrees cooler during the day now ) . xxmaj even doing all that stuff during a sunny day , we generate more than we use ( but just barely ) . \n",
       "  xxmaj solar xxmaj city has met every obligation , treated us with respect , and even sent us a referral check as they advertised . xxmaj read the contract , understand what you are agreeing to and call them if you have questions - they are decent folks . \n",
       "  xxmaj hold your head up ! xxmaj you are helping the environment , helping reduce strain on the grid and saving money on your bills - all good things .,xxbos xxmaj in the mood for some xxmaj xxunk food but do n't know where to go ? xxmaj well , xxmaj madison is n't xxup that far , and there 's plenty of other stuff to do on xxmaj state street to keep you occupied for a day ! \n",
       " \n",
       "  xxmaj the last time i was here was when flip phones were just starting to get popular xxrep 4 . yes , i said flip phones ! \n",
       " \n",
       "  xxmaj today , they have changed locations so that they are across the street somewhat from their old spot and they occupy the upstairs ... what great people watching ! \n",
       " \n",
       "  xxmaj the food is better than i remember , but , i 'm not as picky an eater as i was back then either . i remember having had the xxmaj xxunk xxmaj xxunk all those years ago . xxmaj the dish stuck in my memory because there were carrots and raisins in it xxrep 4 . a very odd combination to me , but oh , how it worked ! xxmaj it 's still on the menu , but today i opted for something different . \n",
       " \n",
       "  xxmaj we were a group of three xxrep 4 . hubs , his sis and me . xxmaj he suggested splitting an appetizer 3 ways and then sis and i splitting an entree while he got one for himself . i know , it sounds bad , but his sis and i have very small appetites , so this was actually a very smart way to go and we still ended up with leftovers ! \n",
       " \n",
       "  xxmaj we started out with the sampler platter which consisted of hummus , xxunk ( fried potato and scallion filled pastries ) , tabouleh and baba ganoush served with yogurt sauce . a la free chips and salsa , warmed pita bread with roasted pepper spread and cilantro chutney were brought out too . xxmaj tabouleh xxrep 6 . i get why people like it ; it was very fresh , but raw veggies taste gross to me ! i picked out the scallions in the xxunk and then thought it was very good ! xxmaj the hummus was garlic - y goodness and the baba ganoush was perfect ! i 've had it at other places where it was as sour as a lemon , but here ? xxmaj perfection ! xxmaj pepper spread , another awesome condiment i am newly in love with . xxmaj chutney ? xxmaj do n't love it , do n't hate it , do n't mind it . xxmaj sis and i split the xxmaj ginger xxmaj chicken : breast meat sauteed with ginger and garlic in a light curry sauce with artichokes . xxmaj light curry is definitely true ! i am a curry lover and , although the dish certainly smells curry - licious , the flavor was very light and mild . xxmaj highly recommended for a curry newbie . xxmaj the artichokes xxrep 4 . cooked to perfection . xxmaj no fibrous parts to chew on , at all . xxmaj let the accompanying rice soak up the sauce and enjoy ! xxmaj hubs ordered xxmaj lamb curry : pieces of lamb leg with mushrooms and spinach in a light tomato curry sauce . xxmaj there were also potatoes in it , but they are n't listed in the menu description . xxmaj he let me try a little ... another delicious dish ! xxmaj everything seemingly melted in my mouth ! xxmaj entrees come with either soup or salad . i chose soup , he picked salad . xxmaj the salad is xxmaj romaine based , not iceberg , a definite plus , and hubs reported that the dressing , a very light cucumber concoction , was a nice change . xxmaj the soup ( xxmaj xxunk ) had onions , chick peas , kidney beans , split peas , chicken and lamb in a tomato - y base topped off with a dollop of yogurt . xxmaj how many words are there for delicious ? xxmaj for dessert ? xxmaj baklava , or as they call it , xxmaj xxunk . xxmaj we split it three ways and our server , a very friendly , kind and funny xxmaj russian exchange student , went out of her way to find us the biggest piece . xxmaj it was served with a piece of lemon candied in honey on top . xxmaj am i saying delicious too much ? 'cause that 's what it was xxrep 4 . yummy , yum , yum , yum ! \n",
       " \n",
       "  i do n't think there are any xxmaj xxunk restaurants in the xxmaj milwaukee area , xxmaj xxunk , so if you 're ever looking to open a second location , come on over , we 'd xxup love to have you ! \n",
       " \n",
       " \n",
       "  24 / 2015,xxbos xxmaj pick xxmaj thai is absolutely the best ! ! xxmaj this chef knows what she is doing . xxmaj this is my favourite food ever ! xxmaj green curry . xxmaj this is 100 percent ; without a doubt ; hands down ... the best of the best xxmaj thai food in this city ... in this province ... in the entire xxmaj xxunk . xxmaj you 'd have to go so far xxmaj west , young man , that you will have had reached the xxmaj east once again . xxmaj you 'd have to travel far and wide to get close to the excellence and authenticity of this xxmaj thai green curry . xxmaj ask to speak to the boss lady ... ask her to make you the same vegetarian xxmaj thai green curry that she makes for xxmaj raj ... that 's me . xxmaj my green curry is especially made for me and it is 100 % strictly vegetarian . xxmaj you wo n't find this elsewhere . xxmaj voilà , the sublime excellence , nuance and harmony of xxmaj thai flavour . \n",
       " \n",
       "  xxmaj have you heard of the xxmaj king of xxmaj siam ? xxmaj well this is the story of the xxmaj king and i ... whilst xxunk tradition and hegemony , in my humble opinion , xxunk a most xxunk and antiquated and xxunk convention of social xxunk , popular xxunk , xxunk of the intellect , royal incest and unwarranted elitist hegemony ... notwithstanding all that ... sometimes the people just want you to rule them with an iron xxunk donkey punch to the kidneys . xxmaj does it make sense that people would disregard their seething xxunk hatred for one another in order to unite in love , harmony and xxunk - all the way down in the dirt - beneath some arbitrary monarch ? xxmaj they barely have food and water but what they really need is pomp and circumstance and royal pageantry . xxmaj so , basically , take a country where there is a lot of civil unrest based on ethnic , xxunk and / or religious differences and just establish a monarchy . xxmaj that should solve all the problems in the entire world . xxmaj yes , indeed , the penultimate solution is to unify people with all of their hatred for one another by somehow xxunk their allegiance and support and loyalty in one lofty , xxunk , unaccountable and arbitrary xxunk of a person , in relation to whom , they should all feel inferior . xxmaj they would need to obey and love this monarch who would tell them all what they can and can not do and how and how not to think . xxmaj c'mon xxmaj rama xxup xxunk , that is a bit amateurish ... not very fly for a xxmaj thai guy . \n",
       " \n",
       "  i love you , xxmaj red xxmaj shirts ! xxup xxunk ! \n",
       " \n",
       "  xxmaj monarchism xxunk the need for the subjects being ruled over ; to , in effect , maintain an individual and societal state of suspended disbelief . xxmaj disbelief in the xxunk of the individual in relation to the welfare of society , disbelief in one 's individual agency and authority , disbelief in the equality of all people and disbelief in good xxunk , true democracy , accountability and transparency . \n",
       " \n",
       "  xxmaj monarchism perpetuates old xxunk such as the concept of race and the idea that one ethnicity can be superior to another ethnicity and therefore those born to this royal family or that royal family are naturally born to rule over the obviously inferior masses . xxmaj it perpetuates xxunk ; in our modern society one should not be expected to defer to another or hold another above oneself simply because of birth . xxmaj it perpetuates discrimination based bullshit ; most of us can not become xxmaj king or xxmaj queen of xxmaj canada . xxmaj it also perpetuates discrimination based on gender in the case of male xxunk . xxmaj fuck that shit ! i 'm all about the xxup vox xxup xxunk ! ! xxmaj let 's hear it for equality , folks . \n",
       " \n",
       "  xxmaj monarchy makes it impossible to separate church & state as the monarch is usually both head of state and head of the church . xxmaj sometimes the monarch is a god or xxunk . xxmaj is n't xxmaj queen xxmaj elisabeth like xxmaj jesus ' second cousin or something ? xxmaj wait would that make her also her own father ? xxmaj talk about incest ! xxmaj the xxmaj emperor of xxmaj japan is like a xxmaj shinto xxmaj god . xxmaj the xxmaj king of xxmaj thailand is like an incarnation of the xxmaj hindu avatar xxmaj rama ! xxmaj what ? \n",
       " \n",
       "  xxmaj monarchism is also problematic for the xxunk themselves what with all the incest and xxunk . xxmaj they also have a hard time ( poor little rich kid ) growing up , what with the dysfunctional household and obvious abnormal childhood . \n",
       " \n",
       "  xxmaj monarchism is also very expensive and modern monarchy remains unaccountable to taxpayers . xxmaj xxunk pay over xxunk 100 million per xxunk and that number may not even be the \" real mccoy \" as the finances are exempt from the xxmaj access to xxmaj information xxmaj act . xxmaj canada spends about 250 $ million each year ; not including our annual gifting to the crown of twenty purebred horses from the xxup xxunk . xxmaj each horse costs about a cool 20 million each . \n",
       " \n",
       "  xxmaj as long as people remain subjects of a monarch and not citizens of a republic their political and social attitudes will inevitably retain a certain xxunk idiocy which has no place in modernity . \n",
       " \n",
       "  xxmaj ultimately , monarchy ( the monarch , monarchism and the institution ) makes the country which they rule over appear backwards and ill suited for a just society that ostensibly is conducive to a secular , multicultural , and xxunk civil state . \n",
       " \n",
       "  xxmaj off with their figurative heads . xxmaj get it ? xxmaj figure head ? xxmaj go figure ... it 's all about the economy , stupid,xxbos i 've been a member at this gym for ~2 years . xxmaj my credit card expired on 04 / 16 , which prompted the owner , xxmaj jackie , to call me . xxmaj at that time xxmaj jackie asked me to place a new card on file and said otherwise my gym access would be suspended . i came down with bronchitis shortly after , and never placed a new card on file . \n",
       " \n",
       "  xxmaj fast forward to 09 / 16 and i see that i 've been billed , $ 34.95 , every month , since my card expired , including a $ 20.00 decline fee on 05 / 16 . i call the gym , to which the employees have to wait for xxmaj jackie to call me back . xxmaj fine . xxmaj jackie calls me back the next day , says she ca n't find my file , and she 'd have to call me back from home . xxmaj fine . xxmaj jackie calls me back the next day from home and says my file is at the gym . xxmaj um , what ? xxmaj she proceeds to tell me she researched my question and emphatically states that i had , in fact , come in and put a new card on file in 05 / 16 . xxmaj no i did not . i had bronchitis . xxmaj she swears i did , and asks me to meet her at the gym the following day so she may show me my file and the document i signed on 05 / 16 authorizing the new card . xxmaj fine . i meet her at the gym the following day - shockingly - she says she does n't have the record of the authorization for the new card . xxmaj she then protests that i was n't in fact billed for the months past 04 / 16 , to which i produce my statement to completely refute her new claim . xxmaj then she says she ca n't tell which credit card that statement is attached to , so i produce the expired card from 04 / 16 that i still had in my wallet for i do n't know why sans nostalgia . \n",
       " \n",
       "  xxmaj she finally relents and agrees to refund 05 / 16 , 06 / 16 , and 07 / 16 plus the $ 20.00 decline fee . i say xxup ok . xxmaj then she asks for a new card to place on file ; when i inform her that i 'd like to cancel , she becomes unglued . xxmaj she asks why i would like to cancel , i respond by xxunk the way i 've been treated , directly , by her . i remind her that she , without saying the words , called me a liar . xxmaj she quipped that she was \" not making stuff up \" . i calmly remind her that in fact , she was \" making stuff up \" when she said that i had placed a new card on file 05 / 16 . xxmaj her reply ? xxmaj she did n't \" make stuff up \" she \" made a mistake \" and then tried to turn it around on me asking if i had ever made a mistake ? ( xxmaj for the record i 'm sure that i have , in fact , xxunk , but in this instance i also did n't try to claim the contrary for purposes of argument . ) \n",
       " \n",
       "  xxmaj she said she was n't going to \" help me out \" if i was just going to cancel . i said it 's not about helping me out , it 's about not defrauding your members . \n",
       " \n",
       "  xxmaj had xxmaj jackie simply treated me with respect , instead of acting like i was trying to get something for nothing , i would have just placed a new card on file . i actually had the new card sitting physically on the table between us . xxmaj her own moral xxunk was her undoing . xxmaj how can she morally xxunk \n",
       " \n",
       "  1 ) xxmaj informing me my access to the gym would be revoked hereafter from an inability to charge my expired credit card \n",
       " \n",
       "  2 ) xxmaj continuing to charge my expired credit card , presumably through some agreement between herself , xxmaj xxunk , and xxmaj visa . \n",
       " \n",
       "  3 ) xxmaj knowing i did not use the gym due to # 1 then refuse to refund the payments for the gym i did n't use \n",
       " \n",
       "  xxmaj as per the actual gym , it does get busy between 5 - 7pm . xxmaj overcrowding was a huge issue when the price was $ 19.95 / month . xxmaj less so now that xxup eos opened down the street and xxmaj jackie raised the price at xxmaj snap to $ 34.95 / month . xxmaj only one of most machines , including a squat rack , which i have had to wait up to 45 minutes to use , however this was only on one occasion . xxmaj missy is exceptionally welcoming , knowledgeable , and friendly . xxmaj jeff rarely speaks to anyone , but he at least always parks in the same spot , so if nothing else he 's consistent . xxmaj outside of this xxunk billing issue and subsequent treatment by the owner i never had any issues and would previously have recommended the gym if it 's the geographically most convenient option for you , as it was me . xxmaj but now , i hope the xxmaj san xxmaj andrea fault runs precisely down the center of the gym and splits the place in two . \n",
       " \n",
       "  xxmaj snap xxmaj fitness corporate does n't appear to have a working number , so i 'll have to avail myself to the xxmaj yelp gods to recover my $ 125 . \n",
       " \n",
       "  xxmaj legal xxmaj disclaimer - xxmaj all statements xxunk are solely my own opinion , and in no way may be construed as fact .,xxbos xxmaj do not buy from this company and site . i 've had s xxrep 4 o many issues than satisfactory . xxmaj the company has been around for a long time but still does n't have it together yet . xxmaj my final straw was when they refuse to give me a refund for receiving something that was n't what i purchased based on their listing . xxmaj with this company you do not know what you are going to get and in the end it 's not worth the time nor hassle . \n",
       " \n",
       "  xxup bad xxup business xxup practices , xxup rude xxup staff xxup members , xxup hidden xxup fees xxup and xxup policies , xxup and xxup false xxup advertisements . \n",
       "  xxmaj my experience with them : \n",
       "  1 . xxmaj diving 25 - 30 minutes each way to pick up something they lost or ca n't find . \n",
       "  2 . xxmaj xxunk 25 - 30 minutes each way to return an item that was either broken ( when listed new ) or was n't as listed . \n",
       "  3 . ( xxmaj sometimes ) xxmaj rude staff acting as if you are in the wrong for paying for broken or mislead items . \n",
       "  4 . xxmaj their rules : pay for item at the end or day or they will automatically deduct from your account . ( i think this rule is fair ) . xxmaj pick up within 7 days or we will re - list it and charge you 35 - 45 % as a relisting fee . ( i 'm not sure which percentage it is , but they want to charge you for an item you did n't pick up yet and put back on the market to make more money from it ... bad practice ) . xxmaj you have seven days to return an item ( which is horrible because this is xxup not xxup noted xxup in xxup their xxup policy xxup anywhere ) xxmaj it 's something they \" tell \" you so that they can get rid of the item . \n",
       "  xxmaj you do n't get compensated for our time wasted for items you have to return because they sold you something that was n't listed properly . xxmaj you do n't get compensated for you time wasted for items they lost or can not find . \n",
       "  5 . i purchased an item and check it and the cord was ripped . xxmaj they looked up the cord online and said i could buy one for $ 10 . ( which is interesting because you now want me to go out my way to find a cord , order it or pick on up because you did n't like your item properly ... okay ) . xxmaj so you know what they initially suggested xxrep 4 . to give me a $ 5 credit . xxmaj you saw the cord to replace cost $ 10 and you suggested to give me a $ 5 credit ... smh . \n",
       "  6 . xxmaj charging extra fees . xxmaj they charge delivery fees if the item is not picked up on a specific day and moved . ... i have no problem with this but like the 7 day return policy this is not xxup listed . xxmaj no one knows until they charge you . \n",
       "  7 . i mainly buy \" new \" items .. and somehow i get items that are either broken , damaged , or used . xxmaj it become annoying after a while . \n",
       "  8 . xxmaj staff : xxmaj horrible , rude , and do not care besides the two i mention below . \n",
       " \n",
       "  i last purchased a canopy from them . xxmaj due to the fact that the last one i purchased from they was broken and could n't use , i check this one to make sure i could use it and it was okay . xxmaj the day i used it for my event i found out that it was the xxup wrong size . xxmaj they listed as a 10x10 and instead it was a 8x10 . xxmaj that 's huge difference . i did n't think would have to check the size of it . i can not use the canopy and they will not accept it as a return . xxmaj you would think that a business would correct something that was xxup wrong xxup on xxup their xxup end . xxmaj they say oh well , tough luck . xxmaj as a small business owner this is not okay . i paid $ 75 for the canopy and i can not use it . i and others like myself do not have $ 75 to be wasted . \n",
       " \n",
       "  i called and spoke to xxmaj luis at the xxmaj cheyenne location and he said he 's not going to do anything . xxmaj then i called the car auction place to get the owner information . i would think as a small business owner you would want to know how your staff treats customers . i spoke with xxmaj laura and she took my info and said she would call back . i waited a week and half and no call , so i called her back . xxmaj she had an attitude and was very dismissive . xxmaj said she would pass along to xxmaj xxunk at xxmaj cheyenne which i have n't hear back from yet . xxmaj this leaves me to this point . \n",
       " \n",
       "  xxmaj in my opinion they treat the customers like crap . xxmaj they post false information and expect you to go out your way and do everything and nothing falls on them . xxup not xxup good xxup business . xxmaj it 's very shady and they will get nothing else from me . \n",
       " \n",
       "  xxmaj so you all know , i 've spent almost 7k with this company in less than a year . xxmaj some stuff was good , some was horrible . xxmaj it has been a 50 / 50 for me . i was open to still risking it until this last go around . xxmaj when you treat people like crap then i do n't want to give you any of my business . xxmaj you all should really think bout this before buying from them . xxmaj if you experience anything that i said above , then i suggest you write a review yourself and stop doing business here . xxmaj not good at all . \n",
       " \n",
       "  i will note that xxmaj xxunk and xxmaj xxunk at xxmaj henderson location has always been great staff to me .\n",
       "y: LMLabelList\n",
       ",,,,\n",
       "Path: /home/ubuntu/.fastai/data/yelp;\n",
       "\n",
       "Valid: LabelList (2000 items)\n",
       "x: LMTextList\n",
       "xxbos xxmaj first of all , i would like to xxmaj thank to xxmaj pam , xxmaj tracey , xxmaj bill , all the staffs , & xxmaj xxunk xxunk 's play mate ) @ xxmaj just xxmaj like xxmaj home who have been very helpful and giving their love to my dog , xxmaj xxunk ! i think xxmaj it is time for me to write a pleasant review about this nice doggy day care / boarding place that we 've been experienced since early this year xxup :p \n",
       " \n",
       "  xxmaj how would you feel if every single day you get a note on your door saying , \" xxmaj your dog has been barking for over 2 hrs ! xxmaj very xxmaj annoying dog ! xxmaj animal xxmaj control & xxmaj police xxmaj dept . have been called ! xxmaj do something about it , xxup last xxmaj warning ! ! ! \" i was getting some notes right after i moved in . xxmaj so , i became very worried & had a big concern about leaving my dog alone while i was at work . xxmaj when i moved in to a new place , suddenly my dog , xxmaj xxunk , he started to bark nonstop . i never knew that he felt so insecure staying home by himself .. i totally understand that all the pets require some time to adjust with their new environment . i love my dog no matter what but i am always willing to correct any problem that my poor dog causes to the new neighbors . i have tried many different things to help my be loving pup to be safe & happy : long hours of walk , more play time for enough exercise , 3 days of doggy park visits a week , xxunk collar on him , retraining him for good behavior , & so on . xxmaj even though we put our effort together , xxmaj he wo n't stop barking according to my next door neighbor and which was causing a lot of trouble . i was very frustrated and stressed out about it :( :( i had to come up with other solutions asap xxrep 4 . \n",
       " \n",
       "  xxmaj meanwhile , i was looking for a good doggy day care place that xxmaj xxunk would feel safe and comfortable , , like some facilities that they do n't put xxmaj xxunk in a cage for a long period of time . i had several experiences xxunk places in the past that xxmaj xxunk could n't control his bowel movement or was having a diarrhea for several days after returning home from the facilities . i finally found * xxmaj just xxmaj like xxmaj home 's website . xxmaj instead of reading all the descriptions on their xxunk , i decided to check out the place by myself before putting my dog into the place that i have no knowledge of ... \n",
       "  xxmaj they provide some great amenities ... \n",
       "  1 . in the backyard - xxmaj dogs can play in various outdoor areas : there is a big synthetic turf lawn area that the dogs can feel free to play one xxunk them in terms of size , temperament , energy level , and age ) xxmaj for example , xxmaj xxunk is xxunk - old , still has a high energy level so that the dog sitter plays with him more often or they do n't mind if xxmaj xxunk follows them around due to him showing a separation anxiety . \n",
       "  2 . xxmaj there is a little playground area with a slide which my dog enjoys to ride the most :) \n",
       "  3 . xxmaj they recently built a large cooling dog xxunk a / c ) that dogs can go in and out whenever they want to . \n",
       "  4 . xxmaj all the rooms are decorated as a nice living room or a family room with comfy couches , tables , lamps , & xxup tv so that the dogs would feel more relaxed and comfortable while they are on xxunk dogs ' room / small dogs ' room ) . \n",
       "  5 . xxmaj there 's always someone staying with the dogs at night and watch them . \n",
       "  6 . xxmaj the grooming service is available with very reasonable prices \n",
       "  7 . xxmaj they have a web cam system available . xxmaj ex . i could watch my dog whenever i 'm on my computer while i was gone overseas ) . \n",
       "  8 . xxmaj the hours are xxunk on xxmaj mon - xxmaj sun . \n",
       "  9 . xxmaj they try to keep the place clean and nice . \n",
       "  10 . you can find a great deal on xxunk xxmaj xxunk & xxmaj overnight stay ) \n",
       "  11 . xxmaj especially , xxmaj pam & xxmaj tracey , they 've been very helpful giving me some tips and advises how to take care xxmaj xxunk at home . xxmaj they really take great care of dogs :) \n",
       " \n",
       "  i 've been purchased the xxunk days of day care & 30 days of overnight stay ) with a great prepaid discount ! \n",
       " \n",
       "  xxmaj maybe , some people might think i am doing too much for my dog but without xxmaj just xxmaj like xxmaj home , i must gone crazy at that time .. xxmaj oh well , now i can smile and be happy about the outcome because we both are doing a lot better . xxmaj and also it might be a good idea that let the dog play with other dogs once in a while at day care . xxmaj as a result , dogs become more socialized with other dogs and people , i think . \n",
       "  i 'm really happy to find this place and i already recommend to several xxmaj yelp friends , xxmaj anthony xxunk ) , xxmaj jade xxunk ) & xxmaj sylvia xxunk ) . i hope they have a great experience as well . xxmaj now days , xxmaj xxunk seems like he is comfortable with our new place that we 're living in xxrep 4 . \n",
       "  xxmaj he is doing a lot better than before because he spends his day exercising outside , he eats and sleeps better at home . \n",
       " \n",
       "  xxmaj just xxmaj like xxmaj home ... xxmaj you are my savior xxup :d,xxbos xxmaj about a year ago i found xxmaj karen after doing some research online . xxmaj after 3 years of struggling with my diet after being diagnosed as xxmaj celiac , i finally asked for help . xxmaj initially , i sought help because i was frustrated by weight gain after following a xxmaj celiac - friendly diet . i signed up for three sessions as part of a weight loss program . \n",
       " \n",
       "  xxmaj after my first appointment , xxmaj karen recommended food sensitivity testing and i was surprised to find that there were many , many foods that were causing problems . xxmaj according to xxmaj karen , eliminating these foods would lead to many improvements . xxmaj karen told me that many things would change . xxmaj she told me not to expect overnight results . xxmaj this was not a quick fix . i could expect things like clearer skin , reduced sinus inflammation , better sleep , improved brain function , reduced muscle pain , more energy , and weight loss . xxmaj she said inflammation would be reduced before weight loss and that people would notice that first . i admit that i was skeptical at first . xxmaj it all sounded too good to be true . xxmaj but i trusted in her method . \n",
       " \n",
       "  xxmaj my initial 3 weight loss sessions came and went without the desired weight loss that i had anticipated . xxmaj however , the ultimate goal xxmaj karen had in mind was making my body work properly , not lose weight . xxmaj the weight loss would come , i was assured . xxmaj although eliminating foods was trying and difficult at times , i trusted that she was in the right track . xxmaj instead , we focused on other xxunk , like reducing inflammation , and improving bathroom habits , as well as a general feeling of wellness . xxmaj after 9 months , i was xxunk for food sensitivities and had far less progress with the responses than xxmaj karen expected . xxmaj still , she did not give up . xxmaj we pressed on and added supplements , and altered some of the ways i was preparing foods . xxmaj it worked . \n",
       " \n",
       "  xxmaj it has been almost a year to the day since my first visit with xxmaj karen . xxmaj in the last year , xxup everything that xxmaj karen said during our first visit happened ! xxmaj sometimes so slowly that i barely noticed . xxmaj initially , it was reduced inflammation and very little weight loss . xxmaj however , as xxmaj karen had told me , the weight came off . xxmaj looking back , it is amazing how far i 've come . i have lost 50 lbs . in as many weeks . xxmaj after years of inflammation causing me to look \" puffy \" i am amazed when i look in the mirror . xxmaj as she had said , my skin was clearer , and my inflammation was reduced significantly . i sleep more soundly and do not feel tired when i wake up anymore . i used to have coffee each morning to help me wake up but i no longer feel like it is necessary . i feel happier , clearer and more energized mentally . xxmaj what i had attributed to \" mommy fog \" was actually fixed by changing the foods i ate . \n",
       " \n",
       "  xxmaj if you are truly ready for a change , xxmaj karen has an amazing background of expertise to help . xxmaj she stays current on new research and is not afraid to adjust a plan to get results . xxmaj she truly changed my life and for the first time ever , i am back in control . \n",
       " \n",
       "  i am not saying this process was easy or that it was quick , but it is definitely worth doing if you are ready to take responsibility for your health and follow her recommendations . i am glad that i did .,xxbos xxup ok . i must update . i must . xxmaj we went back a couple months ago , and i absolutely love this place . i hate seeing 4 stars from me , when i know this is my favorite place to xxunk - out at . xxmaj lets update , shall we ? \n",
       " \n",
       "  xxunk / xxmaj xxunk \n",
       "  i love the appetizers they have on the menu and how they pair so well with the wines they offer . xxmaj although it is simple to pair wine and cheese and semi - upscale food together , there are still ways to fudge it up . xxmaj the options they give you are relevant and easily interchangeable upon your next visit . xxmaj the wines here are mind - blowing . xxmaj yes , they come from out of state , but does that matter ? xxup no it does n't ! xxmaj they grow these grapes with extreme care , ship them in here pronto , and the wine masters take care of the rest . xxmaj the wines have significant flavor and volume , just like you expect . xxmaj you do not miss out on value and taste , each wine is tailored for your pallet . i love my red 's and they sure do stock some mighty tasty options . xxmaj the xxmaj cab 's and reds offered here really do have some personality that even xxunk 's can enjoy . xxmaj they also offer a large variety of sweet wines , which is a little different . xxmaj it allows my fiance and others whom are n't big on traditional wines to get into it a bit . xxmaj the wide variety of options for wine here makes it a great spot to run to ! \n",
       " \n",
       "  xxunk / xxmaj xxunk \n",
       "  xxmaj the vibe is so relaxed for a wine spot , it really is perfect for the city here . xxmaj games are available to play on the high top tables and they have extended the backroom to be available for parties and the events they hold . xxmaj the atmosphere really ties the wines together well . xxmaj the service has always been excellent , and each time we came with a xxmaj groupon . i would come here if they did n't have a xxmaj groupon , by the way :-) .. xxmaj anyway , the service was above par even with the coupon , they have had a smile on their faces each time we came in and it never left their face when they came to serve us . xxmaj last time in we brought my mom and dad for a paired flight . xxmaj my mother is a very picky wine person , and she did not like the wines xxunk xxmaj dad loved them , and he is big on red 's like me ... go figure ) . xxmaj point is , the server was not taken aback by her assertions that she did not like the wines , and flawlessly provided her alternatives on the menu she would like . xxmaj when she started getting uber picky , she was provided some wine 's not listed on the menu which she did like , ending her random xxunk . xxmaj our server was helpful and fast despite a busy xxmaj friday night . xxmaj there was nothing more we could have asked of them , really did a stand - up job ! \n",
       " \n",
       "  xxunk / xxmaj xxunk \n",
       "  xxmaj the owner reached out to me after my last review . xxmaj he thanked me for the review ... the thing is , they deserve the accolades . i hope adding my extra two cents to the fray will bring a big more attention to the location . i have n't had a bad experience here , nor a bad wine . i still assert this place is the best place for authentic wines in the basin here xxrep 4 . i mean , come on they bottle xxmaj xxunk 's wines now guys ! xxmaj available at xxmaj total xxmaj wine and most of the grocery stores out here , they are the local wine pros . xxmaj do not mistake them for selling out , they hardly have done that . xxmaj they are just making it easier for me to get the wines i like at a store nearby . 5 stars for great service , great food , outstanding wines , perfect atmosphere and a good owner who knows his clientele . xxmaj xxunk !,xxbos xxmaj xxunk xxmaj sushi is a joke , because of them i need to go back and re - evaluate xxmaj tokyo xxmaj sushi xxmaj house that i evaluated yesterday and up them to a 2 star , unfortunately xxmaj xxunk xxmaj sushi is much worse and they truly deserve the covenant 1 star . \n",
       " \n",
       "  i 'm on a quest to rate all of the sushi establishments within 5 miles of where i work . xxmaj when i went to xxmaj xxunk xxmaj sushi today for lunch , i walked in at xxunk and i was the only person in the restaurant , other than 2 sushi chefs , the host / waiter and what i believe to be the owner . \n",
       "  xxmaj so there i am one person with the honor of having 4 individuals tend to my sushi needs . xxmaj under these circumstances , you would believe the sushi i was about to ingest would be amazing , why not , without any other tables or orders to distract the sushi chef from my order , i was sure i was in for a sushi experience like no other . \n",
       " \n",
       "  i immediately asked for extra wasabi and my waiter xxmaj ronald was quick to respond , nothing fancy mind you like you would normally see in other restaurants , just a small round plate with ginger and wasabi just thrown on the plate , very messy presentation . xxmaj so i began to mix my normal soy sauce with wasabi and noticed the wasabi had no heat , so i added even more wasabi in an attempt to make it hotter and to no avail . xxmaj the wasabi was clearly not fresh ; i ended up with a paste so thick in an attempt to get some heat that you would have thought i was mixing grout for bathroom tile work . \n",
       " \n",
       "  i ordered the xxmaj poke xxmaj salad and it appeared very nice but i was a little taken back by the sweetness . i then ordered the xxmaj xxunk xxmaj roll and my usual xxmaj unagi xxmaj hand xxmaj roll so that i can gauge the quality of fresh fish to come by sampling the fresh water eel , oh my god , i nearly passed out with disgust as to what was brought to my table . xxmaj the eel was burnt , cold and just simply hard to chew ; the only other eel in my life that tasted even remotely similar to this was what i once found in a can in the supermarket . xxmaj being the only person in the restaurant , the eel should have been freshly broiled and come to my table still warm , instead it was cold , burnt and had a consistency of beef jerky . i would be embarrassed if i took a client here , ashamed really . \n",
       " \n",
       "  i ended up sending both the eel hand role and the spicy tuna hand role back when they arrived because nearly 80 % of the roll was rice and virtually no protein . xxmaj again , the eel was horrible , xxmaj if i had to lay money down and bet , i would say the eel came from a can and was not fresh at all . \n",
       " \n",
       "  i went on to order xxmaj albacore and it came out dry and looked like someone had already chewed it and put it back on the plate ( cuts all across the fish ) . i also ordered the xxmaj surf xxmaj clam and this came out slimy , surf clam never has a slimy sheen on it unless it 's old . \n",
       "  i was trying so hard to make this place work , i tried as much as i could to see if i could find something on the menu to make the trip to xxmaj xxunk xxmaj sushi enjoyable and worth it , but i just could n't . \n",
       " \n",
       "  i ordered the xxmaj salmon xxmaj skin hand roll and it was the worst i had ever tasted in my life , the xxmaj salmon xxmaj skin was pieces of skin about 4 - xxunk long sticking out of the hand roll , not 1 or 2 pieces but what appeared to be the whole damn salmon , it was truly overkill . xxmaj when i xxunk into the xxmaj salmon xxmaj skin hand roll , there was such a load crunch i believe people were looking around to see if metal was xxunk from a car accident outside . xxmaj it was awful , i felt like i was eating a pork rind hand roll , it was way to crunchy and just too much of it . i then ordered the xxup xxunk xxmaj roll thinking , not too complicated , it 's a roll with only three little letters for a name , so i thought to myself , as long as there was n't any more of that dreadful eel in the roll , maybe this roll will be a winner . xxmaj who knew , how do you screw up a roll that has xxmaj tuna , xxmaj salmon , xxmaj cream xxmaj cheese and xxmaj avocado ; simple , cut the pieces so big you need someone without just in case you need someone to perform the xxmaj xxunk xxmaj maneuver on you when you choke . xxmaj only 6 piece came out where there should have been 8 and possible 10 for a cut roll , the pieces were just too thick to be enjoyable , nobody wants that much cream cheese in their mouth at one time , unless you 're sitting down to put the hurt on a lox bagel . \n",
       " \n",
       "  xxmaj sushi is about freshness , textures , flavors , combinations of flavors and the perfect balance of vinegar rice to raw fish . xxmaj if any of these are not correct , it ruins the entire sushi experience . \n",
       " \n",
       "  xxmaj xxunk xxmaj sushi reminds me of amateur hour at the xxmaj laugh xxmaj factory , although they did get a laugh out of me , as i said when i opened , what a xxmaj joke . i could n't believe i was actually paying money for this crap , just about anyone could read a book at home and learn how to cut , prepare and assemble better tasting sushi than xxmaj xxunk sushi . xxmaj do n't waste your time and money going here , there 's just not enough customers for the fish to be fresh , hence the xxmaj unagi in a can , slimy xxmaj surf xxmaj clam and already chewed xxmaj albacore .,xxbos xxmaj buckle your asses up boys and girls . xxmaj here is one of the few honest and unprompted reviews you 'll find on this page . xxmaj sit down and join me will you ? \n",
       " \n",
       "  xxmaj now , there are a few consistencies i tend to see on xxmaj yelp : \n",
       " \n",
       "  xxmaj the wedding industry averages 5 stars \n",
       "  xxmaj restaurants get the gambit \n",
       "  xxmaj apartment complexes get absolutely xxunk . \n",
       " \n",
       "  xxmaj why do apartments get the shaft ? xxmaj people only go on their apartment 's xxmaj yelp page when they 're pissed off . \n",
       " \n",
       "  xxmaj as i sit here in my last day , i 'll hit you with my pros and cons and explain why this place ended with 5 stars . \n",
       " \n",
       "  xxmaj might as well start with the cons : \n",
       " \n",
       "  -the garage gates are literally always broken . xxmaj at least 1 out of the 4 entry / xxunk is always permanently up or permanently down . xxmaj the moment they fix one , another immediately decides to break . xxmaj it 's honestly impressive how much it happens . \n",
       "  xxunk off the first one , my bike got stolen from the garage and nothing could be done . \n",
       "  -it 's a bit of a crapshoot on noise . xxmaj occasionally you get that asshat peeling out down the street or talking loudly . xxmaj but honestly it was n't that bothersome . xxmaj it 's nothing compared to the places in old town or xxmaj tempe . \n",
       "  -it 's a bit pricy i guess ? i 've seen people complain about it but i think it 's xxup well worth the money . \n",
       " \n",
       "  xxmaj this brings me to the pros ! \n",
       " \n",
       "  xxunk balls this place is nice . xxmaj all the units are decked the hell out . kitchen is fantastic , washer / dryer in every until , storage , etc . i lived on the third floor , kept my place tidy , and literally only ever had one bug ( a fly ) in my place and that 's cause i left the door open . \n",
       "  -the parking garage is indoors ( go figure ) . xxmaj compared to pretty much everywhere else that has outdoor parking , this is a fucking xxup dream . xxmaj arizona summers can suck it . xxmaj also , the gate issue is more of an inconvenience than anything . \n",
       "  -the front office staff are the fucking best ! xxmaj here 's looking at you , xxmaj brenda ! xxmaj they all learn your names and do what they can to help . xxmaj one morning , my xxup ac went out and it was fixed by the time i got home . xxmaj every little thing is handled super efficiently by maintenance . xxmaj also , there are a bunch of tvs in the lobby , during xxup nfl season , they realized a bunch of us congregated down there and the next weekend had the xxunk package purchased . \n",
       "  -the location - $ 7 lyft ride to xxmaj old town or xxmaj mill . xxmaj ca n't beat that . xxmaj plus you 're peeing distance from 3 great bars and a xxmaj dutch xxmaj bros. \n",
       "  -the coffee machine . xxmaj holy fucking hell that machine pretty much paid for my rent every month . xxmaj it has options for days . xxmaj saved me an insane amount of money on caffeine . \n",
       "  -the pool . xxmaj it 's quite nice . i love the ambiance out there . xxmaj they recently locked down on poolside shenanigans . xxmaj you ca n't throw a wager down there . xxmaj that being said , if you have music on and it 's not obnoxious and you keep your beer discreet , then you can have a nice xxmaj saturday down there . xxmaj just be cool . \n",
       " \n",
       "  xxmaj anyway there it is . xxmaj live here . xxmaj it 's great . i gave it 5 stars because even with the small issues , it 's so much better than anywhere i 've ever lived \n",
       " \n",
       "  xxmaj protip - all large apartment rent structures are built on an algorithm . xxmaj that takes into account supply and demand . xxmaj if you have a bit of time , it 's worth it to check day after day to see what the current price is .\n",
       "y: LMLabelList\n",
       ",,,,\n",
       "Path: /home/ubuntu/.fastai/data/yelp;\n",
       "\n",
       "Test: None, model=SequentialRNN(\n",
       "  (0): AWD_LSTM(\n",
       "    (encoder): Embedding(46441, 400, padding_idx=1)\n",
       "    (encoder_dp): EmbeddingDropout(\n",
       "      (emb): Embedding(46441, 400, padding_idx=1)\n",
       "    )\n",
       "    (rnns): ModuleList(\n",
       "      (0): WeightDropout(\n",
       "        (module): LSTM(400, 1150, batch_first=True)\n",
       "      )\n",
       "      (1): WeightDropout(\n",
       "        (module): LSTM(1150, 1150, batch_first=True)\n",
       "      )\n",
       "      (2): WeightDropout(\n",
       "        (module): LSTM(1150, 400, batch_first=True)\n",
       "      )\n",
       "    )\n",
       "    (input_dp): RNNDropout()\n",
       "    (hidden_dps): ModuleList(\n",
       "      (0): RNNDropout()\n",
       "      (1): RNNDropout()\n",
       "      (2): RNNDropout()\n",
       "    )\n",
       "  )\n",
       "  (1): LinearDecoder(\n",
       "    (decoder): Linear(in_features=400, out_features=46441, bias=True)\n",
       "    (output_dp): RNNDropout()\n",
       "  )\n",
       "), opt_func=functools.partial(<class 'torch.optim.adam.Adam'>, betas=(0.9, 0.99)), loss_func=FlattenedLoss of CrossEntropyLoss(), metrics=[<function accuracy at 0x7f3f61d628c8>], true_wd=True, bn_wd=True, wd=0.01, train_bn=True, path=PosixPath('/home/ubuntu/.fastai/data/yelp'), model_dir='models', callback_fns=[functools.partial(<class 'fastai.basic_train.Recorder'>, add_time=True, silent=False)], callbacks=[...], layer_groups=[Sequential(\n",
       "  (0): WeightDropout(\n",
       "    (module): LSTM(400, 1150, batch_first=True)\n",
       "  )\n",
       "  (1): RNNDropout()\n",
       "), Sequential(\n",
       "  (0): WeightDropout(\n",
       "    (module): LSTM(1150, 1150, batch_first=True)\n",
       "  )\n",
       "  (1): RNNDropout()\n",
       "), Sequential(\n",
       "  (0): WeightDropout(\n",
       "    (module): LSTM(1150, 400, batch_first=True)\n",
       "  )\n",
       "  (1): RNNDropout()\n",
       "), Sequential(\n",
       "  (0): Embedding(46441, 400, padding_idx=1)\n",
       "  (1): EmbeddingDropout(\n",
       "    (emb): Embedding(46441, 400, padding_idx=1)\n",
       "  )\n",
       "  (2): LinearDecoder(\n",
       "    (decoder): Linear(in_features=400, out_features=46441, bias=True)\n",
       "    (output_dp): RNNDropout()\n",
       "  )\n",
       ")], add_time=True, silent=None)\n",
       "alpha: 2.0\n",
       "beta: 1.0], layer_groups=[Sequential(\n",
       "  (0): WeightDropout(\n",
       "    (module): LSTM(400, 1150, batch_first=True)\n",
       "  )\n",
       "  (1): RNNDropout()\n",
       "), Sequential(\n",
       "  (0): WeightDropout(\n",
       "    (module): LSTM(1150, 1150, batch_first=True)\n",
       "  )\n",
       "  (1): RNNDropout()\n",
       "), Sequential(\n",
       "  (0): WeightDropout(\n",
       "    (module): LSTM(1150, 400, batch_first=True)\n",
       "  )\n",
       "  (1): RNNDropout()\n",
       "), Sequential(\n",
       "  (0): Embedding(46441, 400, padding_idx=1)\n",
       "  (1): EmbeddingDropout(\n",
       "    (emb): Embedding(46441, 400, padding_idx=1)\n",
       "  )\n",
       "  (2): LinearDecoder(\n",
       "    (decoder): Linear(in_features=400, out_features=46441, bias=True)\n",
       "    (output_dp): RNNDropout()\n",
       "  )\n",
       ")], add_time=True, silent=None)"
      ]
     },
     "execution_count": 30,
     "metadata": {},
     "output_type": "execute_result"
    }
   ],
   "source": [
    "learn.load('finetuned_lm')"
   ]
  },
  {
   "cell_type": "code",
   "execution_count": 31,
   "metadata": {
    "hidden": true
   },
   "outputs": [],
   "source": [
    "# learn.save_encoder('fine_tuned_enc')"
   ]
  },
  {
   "cell_type": "markdown",
   "metadata": {
    "heading_collapsed": true
   },
   "source": [
    "## Classifier"
   ]
  },
  {
   "cell_type": "code",
   "execution_count": 32,
   "metadata": {
    "hidden": true
   },
   "outputs": [],
   "source": [
    "# data_clas = (TextList.from_df(sample_reviews, path, cols='text')\n",
    "#                 .split_from_df(col=2)\n",
    "#                 .label_from_df(cols=0)\n",
    "#                 .databunch(bs=64))\n",
    "\n",
    "# data_clas.save('data_clas.pkl')"
   ]
  },
  {
   "cell_type": "code",
   "execution_count": 33,
   "metadata": {
    "hidden": true
   },
   "outputs": [],
   "source": [
    "data_clas = load_data(path, 'data_clas.pkl', bs=bs)"
   ]
  },
  {
   "cell_type": "code",
   "execution_count": 34,
   "metadata": {
    "hidden": true
   },
   "outputs": [
    {
     "data": {
      "text/html": [
       "<table border=\"1\" class=\"dataframe\">\n",
       "  <thead>\n",
       "    <tr style=\"text-align: right;\">\n",
       "      <th>text</th>\n",
       "      <th>target</th>\n",
       "    </tr>\n",
       "  </thead>\n",
       "  <tbody>\n",
       "    <tr>\n",
       "      <td>xxbos xxmaj great store xxrep 4 ! xxmaj great store xxrep 4 ! xxmaj great store xxrep 4 ! xxmaj great store xxrep 4 ! xxmaj great store xxrep 4 ! xxmaj great store xxrep 4 ! xxmaj great store xxrep 4 ! xxmaj great store xxrep 4 ! xxmaj great store xxrep 4 ! xxmaj great store xxrep 4 ! xxmaj great store xxrep 4 ! xxmaj great store</td>\n",
       "      <td>5</td>\n",
       "    </tr>\n",
       "    <tr>\n",
       "      <td>xxbos a hands down must see attraction . xxmaj the first time i saw it in 2006 they played xxmaj my xxmaj heart xxmaj will xxmaj go xxmaj on by xxmaj celine xxmaj dion . xxmaj it was so beautiful i almost cried ! xxmaj the strip side offers the best views in my opinion . \\n \\n  xxmaj the fountains are set in a 9 acre xxunk lake</td>\n",
       "      <td>5</td>\n",
       "    </tr>\n",
       "    <tr>\n",
       "      <td>xxbos xxmaj this place is a complete xxmaj xxunk ! ! xxup off ! ! i wanted to give them negative xxmaj stars if i could -10 ! ! \\n  xxmaj they charged me over xxmaj thousand xxmaj dollars for xxmaj work they xxmaj never xxmaj did ! ! ! &amp; xxmaj parts they xxmaj never xxmaj replaced ! ! xxmaj they probably figured xxrep 4 . xxmaj this</td>\n",
       "      <td>1</td>\n",
       "    </tr>\n",
       "    <tr>\n",
       "      <td>xxbos \" xxmaj take it off xxrep 5 . i wanna love you , \\n  xxrep 4 . and everybody - wanna touch you . \\n \\n  xxmaj you movin ' right , xxrep 4 . wanna see what 's up under , \\n  xxmaj then back it up - xxup beep xxup beep like a trucker ! \\n \\n  xxmaj nice thighs , xxrep 4</td>\n",
       "      <td>5</td>\n",
       "    </tr>\n",
       "    <tr>\n",
       "      <td>xxbos xxmaj xxunk war ich dort , xxunk xxunk . \\n  xxmaj der xxmaj xxunk des xxmaj restaurants lohnt sich xxunk , xxunk xxunk die xxmaj tickets , um auf den xxup cn xxmaj tower xxunk , sehr xxunk sind . \\n  xxmaj wenn man das sich xxunk xxunk xxmaj restaurant ( ca . 70 xxmaj xxunk für eine xxmaj xxunk ) besucht , kann man xxunk xxunk</td>\n",
       "      <td>5</td>\n",
       "    </tr>\n",
       "  </tbody>\n",
       "</table>"
      ],
      "text/plain": [
       "<IPython.core.display.HTML object>"
      ]
     },
     "metadata": {},
     "output_type": "display_data"
    }
   ],
   "source": [
    "data_clas.show_batch()"
   ]
  },
  {
   "cell_type": "code",
   "execution_count": 35,
   "metadata": {
    "hidden": true
   },
   "outputs": [],
   "source": [
    "learn = text_classifier_learner(data_clas, AWD_LSTM, drop_mult=0.5)\n",
    "learn.load_encoder('fine_tuned_enc')"
   ]
  },
  {
   "cell_type": "code",
   "execution_count": 36,
   "metadata": {
    "hidden": true
   },
   "outputs": [],
   "source": [
    "learn.lr_find()"
   ]
  },
  {
   "cell_type": "code",
   "execution_count": 37,
   "metadata": {
    "hidden": true
   },
   "outputs": [
    {
     "data": {
      "image/png": "[encoded data removed]",
      "text/plain": [
       "<Figure size 432x288 with 1 Axes>"
      ]
     },
     "metadata": {},
     "output_type": "display_data"
    }
   ],
   "source": [
    "learn.recorder.plot()"
   ]
  },
  {
   "cell_type": "code",
   "execution_count": 38,
   "metadata": {
    "hidden": true,
    "scrolled": true
   },
   "outputs": [
    {
     "data": {
      "text/html": [
       "<table border=\"1\" class=\"dataframe\">\n",
       "  <thead>\n",
       "    <tr style=\"text-align: left;\">\n",
       "      <th>epoch</th>\n",
       "      <th>train_loss</th>\n",
       "      <th>valid_loss</th>\n",
       "      <th>accuracy</th>\n",
       "      <th>time</th>\n",
       "    </tr>\n",
       "  </thead>\n",
       "  <tbody>\n",
       "    <tr>\n",
       "      <td>0</td>\n",
       "      <td>0.215804</td>\n",
       "      <td>0.092350</td>\n",
       "      <td>0.976000</td>\n",
       "      <td>10:55</td>\n",
       "    </tr>\n",
       "  </tbody>\n",
       "</table>"
      ],
      "text/plain": [
       "<IPython.core.display.HTML object>"
      ]
     },
     "metadata": {},
     "output_type": "display_data"
    }
   ],
   "source": [
    "learn.fit_one_cycle(1, 1e-2, moms=(0.8,0.7))"
   ]
  },
  {
   "cell_type": "code",
   "execution_count": 39,
   "metadata": {
    "hidden": true
   },
   "outputs": [],
   "source": [
    "# learn.save('first')"
   ]
  },
  {
   "cell_type": "code",
   "execution_count": 40,
   "metadata": {
    "hidden": true
   },
   "outputs": [],
   "source": [
    "learn.load('first');"
   ]
  },
  {
   "cell_type": "code",
   "execution_count": 41,
   "metadata": {
    "hidden": true
   },
   "outputs": [
    {
     "data": {
      "text/html": [
       "<table border=\"1\" class=\"dataframe\">\n",
       "  <thead>\n",
       "    <tr style=\"text-align: left;\">\n",
       "      <th>epoch</th>\n",
       "      <th>train_loss</th>\n",
       "      <th>valid_loss</th>\n",
       "      <th>accuracy</th>\n",
       "      <th>time</th>\n",
       "    </tr>\n",
       "  </thead>\n",
       "  <tbody>\n",
       "    <tr>\n",
       "      <td>0</td>\n",
       "      <td>0.129492</td>\n",
       "      <td>0.076635</td>\n",
       "      <td>0.975500</td>\n",
       "      <td>12:53</td>\n",
       "    </tr>\n",
       "  </tbody>\n",
       "</table>"
      ],
      "text/plain": [
       "<IPython.core.display.HTML object>"
      ]
     },
     "metadata": {},
     "output_type": "display_data"
    }
   ],
   "source": [
    "learn.freeze_to(-2)\n",
    "learn.fit_one_cycle(1, slice(1e-2/(2.6**4),1e-2), moms=(0.8,0.7))"
   ]
  },
  {
   "cell_type": "code",
   "execution_count": 42,
   "metadata": {
    "hidden": true
   },
   "outputs": [],
   "source": [
    "# learn.save('second')"
   ]
  },
  {
   "cell_type": "code",
   "execution_count": 43,
   "metadata": {
    "hidden": true
   },
   "outputs": [],
   "source": [
    "learn.load('second');"
   ]
  },
  {
   "cell_type": "code",
   "execution_count": 44,
   "metadata": {
    "hidden": true
   },
   "outputs": [
    {
     "data": {
      "text/plain": [
       "(Category 5, tensor(1), tensor([9.3103e-10, 1.0000e+00]))"
      ]
     },
     "execution_count": 44,
     "metadata": {},
     "output_type": "execute_result"
    }
   ],
   "source": [
    "learn.predict(\"I really enjoyed our lunch. Went with my wife and kids and had the steak sandwich which was delicious!\")"
   ]
  },
  {
   "cell_type": "code",
   "execution_count": 45,
   "metadata": {
    "hidden": true
   },
   "outputs": [
    {
     "data": {
      "text/plain": [
       "(Category 1, tensor(0), tensor([0.5102, 0.4898]))"
      ]
     },
     "execution_count": 45,
     "metadata": {},
     "output_type": "execute_result"
    }
   ],
   "source": [
    "learn.predict(\"These guys were dishonest and service was bad!\")"
   ]
  }
 ],
 "metadata": {
  "kernelspec": {
   "display_name": "Python 3",
   "language": "python",
   "name": "python3"
  },
  "language_info": {
   "codemirror_mode": {
    "name": "ipython",
    "version": 3
   },
   "file_extension": ".py",
   "mimetype": "text/x-python",
   "name": "python",
   "nbconvert_exporter": "python",
   "pygments_lexer": "ipython3",
   "version": "3.6.5"
  },
  "toc": {
   "base_numbering": 1,
   "nav_menu": {},
   "number_sections": true,
   "sideBar": true,
   "skip_h1_title": false,
   "title_cell": "Table of Contents",
   "title_sidebar": "Contents",
   "toc_cell": false,
   "toc_position": {},
   "toc_section_display": true,
   "toc_window_display": false
  },
  "varInspector": {
   "cols": {
    "lenName": 16,
    "lenType": 16,
    "lenVar": 40
   },
   "kernels_config": {
    "python": {
     "delete_cmd_postfix": "",
     "delete_cmd_prefix": "del ",
     "library": "var_list.py",
     "varRefreshCmd": "print(var_dic_list())"
    },
    "r": {
     "delete_cmd_postfix": ") ",
     "delete_cmd_prefix": "rm(",
     "library": "var_list.r",
     "varRefreshCmd": "cat(var_dic_list()) "
    }
   },
   "types_to_exclude": [
    "module",
    "function",
    "builtin_function_or_method",
    "instance",
    "_Feature"
   ],
   "window_display": false
  }
 },
 "nbformat": 4,
 "nbformat_minor": 2
}
